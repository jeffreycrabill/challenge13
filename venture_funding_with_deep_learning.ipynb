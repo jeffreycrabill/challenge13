{
 "cells": [
  {
   "cell_type": "markdown",
   "metadata": {},
   "source": [
    "# Venture Funding with Deep Learning\n",
    "\n",
    "You work as a risk management associate at Alphabet Soup, a venture capital firm. Alphabet Soup’s business team receives many funding applications from startups every day. This team has asked you to help them create a model that predicts whether applicants will be successful if funded by Alphabet Soup.\n",
    "\n",
    "The business team has given you a CSV containing more than 34,000 organizations that have received funding from Alphabet Soup over the years. With your knowledge of machine learning and neural networks, you decide to use the features in the provided dataset to create a binary classifier model that will predict whether an applicant will become a successful business. The CSV file contains a variety of information about these businesses, including whether or not they ultimately became successful.\n",
    "\n",
    "## Instructions:\n",
    "\n",
    "The steps for this challenge are broken out into the following sections:\n",
    "\n",
    "* Prepare the data for use on a neural network model.\n",
    "\n",
    "* Compile and evaluate a binary classification model using a neural network.\n",
    "\n",
    "* Optimize the neural network model.\n",
    "\n",
    "### Prepare the Data for Use on a Neural Network Model \n",
    "\n",
    "Using your knowledge of Pandas and scikit-learn’s `StandardScaler()`, preprocess the dataset so that you can use it to compile and evaluate the neural network model later.\n",
    "\n",
    "Open the starter code file, and complete the following data preparation steps:\n",
    "\n",
    "1. Read the `applicants_data.csv` file into a Pandas DataFrame. Review the DataFrame, looking for categorical variables that will need to be encoded, as well as columns that could eventually define your features and target variables.   \n",
    "\n",
    "2. Drop the “EIN” (Employer Identification Number) and “NAME” columns from the DataFrame, because they are not relevant to the binary classification model.\n",
    " \n",
    "3. Encode the dataset’s categorical variables using `OneHotEncoder`, and then place the encoded variables into a new DataFrame.\n",
    "\n",
    "4. Add the original DataFrame’s numerical variables to the DataFrame containing the encoded variables.\n",
    "\n",
    "> **Note** To complete this step, you will employ the Pandas `concat()` function that was introduced earlier in this course. \n",
    "\n",
    "5. Using the preprocessed data, create the features (`X`) and target (`y`) datasets. The target dataset should be defined by the preprocessed DataFrame column “IS_SUCCESSFUL”. The remaining columns should define the features dataset. \n",
    "\n",
    "6. Split the features and target sets into training and testing datasets.\n",
    "\n",
    "7. Use scikit-learn's `StandardScaler` to scale the features data.\n",
    "\n",
    "### Compile and Evaluate a Binary Classification Model Using a Neural Network\n",
    "\n",
    "Use your knowledge of TensorFlow to design a binary classification deep neural network model. This model should use the dataset’s features to predict whether an Alphabet Soup&ndash;funded startup will be successful based on the features in the dataset. Consider the number of inputs before determining the number of layers that your model will contain or the number of neurons on each layer. Then, compile and fit your model. Finally, evaluate your binary classification model to calculate the model’s loss and accuracy. \n",
    " \n",
    "To do so, complete the following steps:\n",
    "\n",
    "1. Create a deep neural network by assigning the number of input features, the number of layers, and the number of neurons on each layer using Tensorflow’s Keras.\n",
    "\n",
    "> **Hint** You can start with a two-layer deep neural network model that uses the `relu` activation function for both layers.\n",
    "\n",
    "2. Compile and fit the model using the `binary_crossentropy` loss function, the `adam` optimizer, and the `accuracy` evaluation metric.\n",
    "\n",
    "> **Hint** When fitting the model, start with a small number of epochs, such as 20, 50, or 100.\n",
    "\n",
    "3. Evaluate the model using the test data to determine the model’s loss and accuracy.\n",
    "\n",
    "4. Save and export your model to an HDF5 file, and name the file `AlphabetSoup.h5`. \n",
    "\n",
    "### Optimize the Neural Network Model\n",
    "\n",
    "Using your knowledge of TensorFlow and Keras, optimize your model to improve the model's accuracy. Even if you do not successfully achieve a better accuracy, you'll need to demonstrate at least two attempts to optimize the model. You can include these attempts in your existing notebook. Or, you can make copies of the starter notebook in the same folder, rename them, and code each model optimization in a new notebook. \n",
    "\n",
    "> **Note** You will not lose points if your model does not achieve a high accuracy, as long as you make at least two attempts to optimize the model.\n",
    "\n",
    "To do so, complete the following steps:\n",
    "\n",
    "1. Define at least three new deep neural network models (the original plus 2 optimization attempts). With each, try to improve on your first model’s predictive accuracy.\n",
    "\n",
    "> **Rewind** Recall that perfect accuracy has a value of 1, so accuracy improves as its value moves closer to 1. To optimize your model for a predictive accuracy as close to 1 as possible, you can use any or all of the following techniques:\n",
    ">\n",
    "> * Adjust the input data by dropping different features columns to ensure that no variables or outliers confuse the model.\n",
    ">\n",
    "> * Add more neurons (nodes) to a hidden layer.\n",
    ">\n",
    "> * Add more hidden layers.\n",
    ">\n",
    "> * Use different activation functions for the hidden layers.\n",
    ">\n",
    "> * Add to or reduce the number of epochs in the training regimen.\n",
    "\n",
    "2. After finishing your models, display the accuracy scores achieved by each model, and compare the results.\n",
    "\n",
    "3. Save each of your models as an HDF5 file.\n"
   ]
  },
  {
   "cell_type": "code",
   "execution_count": 195,
   "metadata": {},
   "outputs": [],
   "source": [
    "# Imports\n",
    "import pandas as pd\n",
    "from pathlib import Path\n",
    "import tensorflow as tf\n",
    "from tensorflow.keras.layers import Dense\n",
    "from tensorflow.keras.models import Sequential\n",
    "from sklearn.model_selection import train_test_split\n",
    "from sklearn.preprocessing import StandardScaler,OneHotEncoder\n",
    "from imblearn.over_sampling import RandomOverSampler"
   ]
  },
  {
   "cell_type": "markdown",
   "metadata": {},
   "source": [
    "---\n",
    "\n",
    "## Prepare the data to be used on a neural network model"
   ]
  },
  {
   "cell_type": "markdown",
   "metadata": {},
   "source": [
    "### Step 1: Read the `applicants_data.csv` file into a Pandas DataFrame. Review the DataFrame, looking for categorical variables that will need to be encoded, as well as columns that could eventually define your features and target variables.  \n"
   ]
  },
  {
   "cell_type": "code",
   "execution_count": 196,
   "metadata": {},
   "outputs": [
    {
     "data": {
      "text/html": [
       "<div>\n",
       "<style scoped>\n",
       "    .dataframe tbody tr th:only-of-type {\n",
       "        vertical-align: middle;\n",
       "    }\n",
       "\n",
       "    .dataframe tbody tr th {\n",
       "        vertical-align: top;\n",
       "    }\n",
       "\n",
       "    .dataframe thead th {\n",
       "        text-align: right;\n",
       "    }\n",
       "</style>\n",
       "<table border=\"1\" class=\"dataframe\">\n",
       "  <thead>\n",
       "    <tr style=\"text-align: right;\">\n",
       "      <th></th>\n",
       "      <th>EIN</th>\n",
       "      <th>NAME</th>\n",
       "      <th>APPLICATION_TYPE</th>\n",
       "      <th>AFFILIATION</th>\n",
       "      <th>CLASSIFICATION</th>\n",
       "      <th>USE_CASE</th>\n",
       "      <th>ORGANIZATION</th>\n",
       "      <th>STATUS</th>\n",
       "      <th>INCOME_AMT</th>\n",
       "      <th>SPECIAL_CONSIDERATIONS</th>\n",
       "      <th>ASK_AMT</th>\n",
       "      <th>IS_SUCCESSFUL</th>\n",
       "    </tr>\n",
       "  </thead>\n",
       "  <tbody>\n",
       "    <tr>\n",
       "      <th>0</th>\n",
       "      <td>10520599</td>\n",
       "      <td>BLUE KNIGHTS MOTORCYCLE CLUB</td>\n",
       "      <td>T10</td>\n",
       "      <td>Independent</td>\n",
       "      <td>C1000</td>\n",
       "      <td>ProductDev</td>\n",
       "      <td>Association</td>\n",
       "      <td>1</td>\n",
       "      <td>0</td>\n",
       "      <td>N</td>\n",
       "      <td>5000</td>\n",
       "      <td>1</td>\n",
       "    </tr>\n",
       "    <tr>\n",
       "      <th>1</th>\n",
       "      <td>10531628</td>\n",
       "      <td>AMERICAN CHESAPEAKE CLUB CHARITABLE TR</td>\n",
       "      <td>T3</td>\n",
       "      <td>Independent</td>\n",
       "      <td>C2000</td>\n",
       "      <td>Preservation</td>\n",
       "      <td>Co-operative</td>\n",
       "      <td>1</td>\n",
       "      <td>1-9999</td>\n",
       "      <td>N</td>\n",
       "      <td>108590</td>\n",
       "      <td>1</td>\n",
       "    </tr>\n",
       "    <tr>\n",
       "      <th>2</th>\n",
       "      <td>10547893</td>\n",
       "      <td>ST CLOUD PROFESSIONAL FIREFIGHTERS</td>\n",
       "      <td>T5</td>\n",
       "      <td>CompanySponsored</td>\n",
       "      <td>C3000</td>\n",
       "      <td>ProductDev</td>\n",
       "      <td>Association</td>\n",
       "      <td>1</td>\n",
       "      <td>0</td>\n",
       "      <td>N</td>\n",
       "      <td>5000</td>\n",
       "      <td>0</td>\n",
       "    </tr>\n",
       "    <tr>\n",
       "      <th>3</th>\n",
       "      <td>10553066</td>\n",
       "      <td>SOUTHSIDE ATHLETIC ASSOCIATION</td>\n",
       "      <td>T3</td>\n",
       "      <td>CompanySponsored</td>\n",
       "      <td>C2000</td>\n",
       "      <td>Preservation</td>\n",
       "      <td>Trust</td>\n",
       "      <td>1</td>\n",
       "      <td>10000-24999</td>\n",
       "      <td>N</td>\n",
       "      <td>6692</td>\n",
       "      <td>1</td>\n",
       "    </tr>\n",
       "    <tr>\n",
       "      <th>4</th>\n",
       "      <td>10556103</td>\n",
       "      <td>GENETIC RESEARCH INSTITUTE OF THE DESERT</td>\n",
       "      <td>T3</td>\n",
       "      <td>Independent</td>\n",
       "      <td>C1000</td>\n",
       "      <td>Heathcare</td>\n",
       "      <td>Trust</td>\n",
       "      <td>1</td>\n",
       "      <td>100000-499999</td>\n",
       "      <td>N</td>\n",
       "      <td>142590</td>\n",
       "      <td>1</td>\n",
       "    </tr>\n",
       "  </tbody>\n",
       "</table>\n",
       "</div>"
      ],
      "text/plain": [
       "        EIN                                      NAME APPLICATION_TYPE  \\\n",
       "0  10520599              BLUE KNIGHTS MOTORCYCLE CLUB              T10   \n",
       "1  10531628    AMERICAN CHESAPEAKE CLUB CHARITABLE TR               T3   \n",
       "2  10547893        ST CLOUD PROFESSIONAL FIREFIGHTERS               T5   \n",
       "3  10553066            SOUTHSIDE ATHLETIC ASSOCIATION               T3   \n",
       "4  10556103  GENETIC RESEARCH INSTITUTE OF THE DESERT               T3   \n",
       "\n",
       "        AFFILIATION CLASSIFICATION      USE_CASE  ORGANIZATION  STATUS  \\\n",
       "0       Independent          C1000    ProductDev   Association       1   \n",
       "1       Independent          C2000  Preservation  Co-operative       1   \n",
       "2  CompanySponsored          C3000    ProductDev   Association       1   \n",
       "3  CompanySponsored          C2000  Preservation         Trust       1   \n",
       "4       Independent          C1000     Heathcare         Trust       1   \n",
       "\n",
       "      INCOME_AMT SPECIAL_CONSIDERATIONS  ASK_AMT  IS_SUCCESSFUL  \n",
       "0              0                      N     5000              1  \n",
       "1         1-9999                      N   108590              1  \n",
       "2              0                      N     5000              0  \n",
       "3    10000-24999                      N     6692              1  \n",
       "4  100000-499999                      N   142590              1  "
      ]
     },
     "execution_count": 196,
     "metadata": {},
     "output_type": "execute_result"
    }
   ],
   "source": [
    "# Read the applicants_data.csv file from the Resources folder into a Pandas DataFrame\n",
    "applicant_data_df = pd.read_csv(\n",
    "    Path(\"./Resources/applicants_data.csv\")\n",
    ")\n",
    "\n",
    "# Review the DataFrame\n",
    "applicant_data_df.head()\n"
   ]
  },
  {
   "cell_type": "code",
   "execution_count": 197,
   "metadata": {},
   "outputs": [
    {
     "data": {
      "text/plain": [
       "EIN                        int64\n",
       "NAME                      object\n",
       "APPLICATION_TYPE          object\n",
       "AFFILIATION               object\n",
       "CLASSIFICATION            object\n",
       "USE_CASE                  object\n",
       "ORGANIZATION              object\n",
       "STATUS                     int64\n",
       "INCOME_AMT                object\n",
       "SPECIAL_CONSIDERATIONS    object\n",
       "ASK_AMT                    int64\n",
       "IS_SUCCESSFUL              int64\n",
       "dtype: object"
      ]
     },
     "execution_count": 197,
     "metadata": {},
     "output_type": "execute_result"
    }
   ],
   "source": [
    "# Review the data types associated with the columns\n",
    "applicant_data_df.dtypes\n"
   ]
  },
  {
   "cell_type": "markdown",
   "metadata": {},
   "source": [
    "### Step 2: Drop the “EIN” (Employer Identification Number) and “NAME” columns from the DataFrame, because they are not relevant to the binary classification model."
   ]
  },
  {
   "cell_type": "code",
   "execution_count": 198,
   "metadata": {},
   "outputs": [
    {
     "data": {
      "text/html": [
       "<div>\n",
       "<style scoped>\n",
       "    .dataframe tbody tr th:only-of-type {\n",
       "        vertical-align: middle;\n",
       "    }\n",
       "\n",
       "    .dataframe tbody tr th {\n",
       "        vertical-align: top;\n",
       "    }\n",
       "\n",
       "    .dataframe thead th {\n",
       "        text-align: right;\n",
       "    }\n",
       "</style>\n",
       "<table border=\"1\" class=\"dataframe\">\n",
       "  <thead>\n",
       "    <tr style=\"text-align: right;\">\n",
       "      <th></th>\n",
       "      <th>APPLICATION_TYPE</th>\n",
       "      <th>AFFILIATION</th>\n",
       "      <th>CLASSIFICATION</th>\n",
       "      <th>USE_CASE</th>\n",
       "      <th>ORGANIZATION</th>\n",
       "      <th>STATUS</th>\n",
       "      <th>INCOME_AMT</th>\n",
       "      <th>SPECIAL_CONSIDERATIONS</th>\n",
       "      <th>ASK_AMT</th>\n",
       "      <th>IS_SUCCESSFUL</th>\n",
       "    </tr>\n",
       "  </thead>\n",
       "  <tbody>\n",
       "    <tr>\n",
       "      <th>0</th>\n",
       "      <td>T10</td>\n",
       "      <td>Independent</td>\n",
       "      <td>C1000</td>\n",
       "      <td>ProductDev</td>\n",
       "      <td>Association</td>\n",
       "      <td>1</td>\n",
       "      <td>0</td>\n",
       "      <td>N</td>\n",
       "      <td>5000</td>\n",
       "      <td>1</td>\n",
       "    </tr>\n",
       "    <tr>\n",
       "      <th>1</th>\n",
       "      <td>T3</td>\n",
       "      <td>Independent</td>\n",
       "      <td>C2000</td>\n",
       "      <td>Preservation</td>\n",
       "      <td>Co-operative</td>\n",
       "      <td>1</td>\n",
       "      <td>1-9999</td>\n",
       "      <td>N</td>\n",
       "      <td>108590</td>\n",
       "      <td>1</td>\n",
       "    </tr>\n",
       "    <tr>\n",
       "      <th>2</th>\n",
       "      <td>T5</td>\n",
       "      <td>CompanySponsored</td>\n",
       "      <td>C3000</td>\n",
       "      <td>ProductDev</td>\n",
       "      <td>Association</td>\n",
       "      <td>1</td>\n",
       "      <td>0</td>\n",
       "      <td>N</td>\n",
       "      <td>5000</td>\n",
       "      <td>0</td>\n",
       "    </tr>\n",
       "    <tr>\n",
       "      <th>3</th>\n",
       "      <td>T3</td>\n",
       "      <td>CompanySponsored</td>\n",
       "      <td>C2000</td>\n",
       "      <td>Preservation</td>\n",
       "      <td>Trust</td>\n",
       "      <td>1</td>\n",
       "      <td>10000-24999</td>\n",
       "      <td>N</td>\n",
       "      <td>6692</td>\n",
       "      <td>1</td>\n",
       "    </tr>\n",
       "    <tr>\n",
       "      <th>4</th>\n",
       "      <td>T3</td>\n",
       "      <td>Independent</td>\n",
       "      <td>C1000</td>\n",
       "      <td>Heathcare</td>\n",
       "      <td>Trust</td>\n",
       "      <td>1</td>\n",
       "      <td>100000-499999</td>\n",
       "      <td>N</td>\n",
       "      <td>142590</td>\n",
       "      <td>1</td>\n",
       "    </tr>\n",
       "  </tbody>\n",
       "</table>\n",
       "</div>"
      ],
      "text/plain": [
       "  APPLICATION_TYPE       AFFILIATION CLASSIFICATION      USE_CASE  \\\n",
       "0              T10       Independent          C1000    ProductDev   \n",
       "1               T3       Independent          C2000  Preservation   \n",
       "2               T5  CompanySponsored          C3000    ProductDev   \n",
       "3               T3  CompanySponsored          C2000  Preservation   \n",
       "4               T3       Independent          C1000     Heathcare   \n",
       "\n",
       "   ORGANIZATION  STATUS     INCOME_AMT SPECIAL_CONSIDERATIONS  ASK_AMT  \\\n",
       "0   Association       1              0                      N     5000   \n",
       "1  Co-operative       1         1-9999                      N   108590   \n",
       "2   Association       1              0                      N     5000   \n",
       "3         Trust       1    10000-24999                      N     6692   \n",
       "4         Trust       1  100000-499999                      N   142590   \n",
       "\n",
       "   IS_SUCCESSFUL  \n",
       "0              1  \n",
       "1              1  \n",
       "2              0  \n",
       "3              1  \n",
       "4              1  "
      ]
     },
     "execution_count": 198,
     "metadata": {},
     "output_type": "execute_result"
    }
   ],
   "source": [
    "# Drop the 'EIN' and 'NAME' columns from the DataFrame\n",
    "applicant_data_df = applicant_data_df.drop(columns=[\"EIN\", \"NAME\",])\n",
    "\n",
    "# Review the DataFrame\n",
    "applicant_data_df.head()\n"
   ]
  },
  {
   "cell_type": "markdown",
   "metadata": {},
   "source": [
    "### Step 3: Encode the dataset’s categorical variables using `OneHotEncoder`, and then place the encoded variables into a new DataFrame."
   ]
  },
  {
   "cell_type": "code",
   "execution_count": 199,
   "metadata": {},
   "outputs": [
    {
     "data": {
      "text/plain": [
       "['APPLICATION_TYPE',\n",
       " 'AFFILIATION',\n",
       " 'CLASSIFICATION',\n",
       " 'USE_CASE',\n",
       " 'ORGANIZATION',\n",
       " 'INCOME_AMT',\n",
       " 'SPECIAL_CONSIDERATIONS']"
      ]
     },
     "execution_count": 199,
     "metadata": {},
     "output_type": "execute_result"
    }
   ],
   "source": [
    "# Create a list of categorical variables \n",
    "categorical_variables =  list(applicant_data_df.dtypes[applicant_data_df.dtypes == \"object\"].index)\n",
    "\n",
    "# Display the categorical variables list\n",
    "categorical_variables\n"
   ]
  },
  {
   "cell_type": "code",
   "execution_count": 200,
   "metadata": {},
   "outputs": [],
   "source": [
    "# Create a OneHotEncoder instance\n",
    "enc = OneHotEncoder(sparse=False)\n"
   ]
  },
  {
   "cell_type": "code",
   "execution_count": 201,
   "metadata": {},
   "outputs": [],
   "source": [
    "# Encode the categorcal variables using OneHotEncoder\n",
    "encoded_data = enc.fit_transform(applicant_data_df[categorical_variables])\n"
   ]
  },
  {
   "cell_type": "code",
   "execution_count": 202,
   "metadata": {},
   "outputs": [
    {
     "name": "stderr",
     "output_type": "stream",
     "text": [
      "c:\\Users\\jeffr\\coding_stuff\\condatrill\\envs\\dev\\lib\\site-packages\\sklearn\\utils\\deprecation.py:87: FutureWarning: Function get_feature_names is deprecated; get_feature_names is deprecated in 1.0 and will be removed in 1.2. Please use get_feature_names_out instead.\n",
      "  warnings.warn(msg, category=FutureWarning)\n"
     ]
    },
    {
     "data": {
      "text/html": [
       "<div>\n",
       "<style scoped>\n",
       "    .dataframe tbody tr th:only-of-type {\n",
       "        vertical-align: middle;\n",
       "    }\n",
       "\n",
       "    .dataframe tbody tr th {\n",
       "        vertical-align: top;\n",
       "    }\n",
       "\n",
       "    .dataframe thead th {\n",
       "        text-align: right;\n",
       "    }\n",
       "</style>\n",
       "<table border=\"1\" class=\"dataframe\">\n",
       "  <thead>\n",
       "    <tr style=\"text-align: right;\">\n",
       "      <th></th>\n",
       "      <th>APPLICATION_TYPE_T10</th>\n",
       "      <th>APPLICATION_TYPE_T12</th>\n",
       "      <th>APPLICATION_TYPE_T13</th>\n",
       "      <th>APPLICATION_TYPE_T14</th>\n",
       "      <th>APPLICATION_TYPE_T15</th>\n",
       "      <th>APPLICATION_TYPE_T17</th>\n",
       "      <th>APPLICATION_TYPE_T19</th>\n",
       "      <th>APPLICATION_TYPE_T2</th>\n",
       "      <th>APPLICATION_TYPE_T25</th>\n",
       "      <th>APPLICATION_TYPE_T29</th>\n",
       "      <th>...</th>\n",
       "      <th>INCOME_AMT_1-9999</th>\n",
       "      <th>INCOME_AMT_10000-24999</th>\n",
       "      <th>INCOME_AMT_100000-499999</th>\n",
       "      <th>INCOME_AMT_10M-50M</th>\n",
       "      <th>INCOME_AMT_1M-5M</th>\n",
       "      <th>INCOME_AMT_25000-99999</th>\n",
       "      <th>INCOME_AMT_50M+</th>\n",
       "      <th>INCOME_AMT_5M-10M</th>\n",
       "      <th>SPECIAL_CONSIDERATIONS_N</th>\n",
       "      <th>SPECIAL_CONSIDERATIONS_Y</th>\n",
       "    </tr>\n",
       "  </thead>\n",
       "  <tbody>\n",
       "    <tr>\n",
       "      <th>0</th>\n",
       "      <td>1.0</td>\n",
       "      <td>0.0</td>\n",
       "      <td>0.0</td>\n",
       "      <td>0.0</td>\n",
       "      <td>0.0</td>\n",
       "      <td>0.0</td>\n",
       "      <td>0.0</td>\n",
       "      <td>0.0</td>\n",
       "      <td>0.0</td>\n",
       "      <td>0.0</td>\n",
       "      <td>...</td>\n",
       "      <td>0.0</td>\n",
       "      <td>0.0</td>\n",
       "      <td>0.0</td>\n",
       "      <td>0.0</td>\n",
       "      <td>0.0</td>\n",
       "      <td>0.0</td>\n",
       "      <td>0.0</td>\n",
       "      <td>0.0</td>\n",
       "      <td>1.0</td>\n",
       "      <td>0.0</td>\n",
       "    </tr>\n",
       "    <tr>\n",
       "      <th>1</th>\n",
       "      <td>0.0</td>\n",
       "      <td>0.0</td>\n",
       "      <td>0.0</td>\n",
       "      <td>0.0</td>\n",
       "      <td>0.0</td>\n",
       "      <td>0.0</td>\n",
       "      <td>0.0</td>\n",
       "      <td>0.0</td>\n",
       "      <td>0.0</td>\n",
       "      <td>0.0</td>\n",
       "      <td>...</td>\n",
       "      <td>1.0</td>\n",
       "      <td>0.0</td>\n",
       "      <td>0.0</td>\n",
       "      <td>0.0</td>\n",
       "      <td>0.0</td>\n",
       "      <td>0.0</td>\n",
       "      <td>0.0</td>\n",
       "      <td>0.0</td>\n",
       "      <td>1.0</td>\n",
       "      <td>0.0</td>\n",
       "    </tr>\n",
       "    <tr>\n",
       "      <th>2</th>\n",
       "      <td>0.0</td>\n",
       "      <td>0.0</td>\n",
       "      <td>0.0</td>\n",
       "      <td>0.0</td>\n",
       "      <td>0.0</td>\n",
       "      <td>0.0</td>\n",
       "      <td>0.0</td>\n",
       "      <td>0.0</td>\n",
       "      <td>0.0</td>\n",
       "      <td>0.0</td>\n",
       "      <td>...</td>\n",
       "      <td>0.0</td>\n",
       "      <td>0.0</td>\n",
       "      <td>0.0</td>\n",
       "      <td>0.0</td>\n",
       "      <td>0.0</td>\n",
       "      <td>0.0</td>\n",
       "      <td>0.0</td>\n",
       "      <td>0.0</td>\n",
       "      <td>1.0</td>\n",
       "      <td>0.0</td>\n",
       "    </tr>\n",
       "    <tr>\n",
       "      <th>3</th>\n",
       "      <td>0.0</td>\n",
       "      <td>0.0</td>\n",
       "      <td>0.0</td>\n",
       "      <td>0.0</td>\n",
       "      <td>0.0</td>\n",
       "      <td>0.0</td>\n",
       "      <td>0.0</td>\n",
       "      <td>0.0</td>\n",
       "      <td>0.0</td>\n",
       "      <td>0.0</td>\n",
       "      <td>...</td>\n",
       "      <td>0.0</td>\n",
       "      <td>1.0</td>\n",
       "      <td>0.0</td>\n",
       "      <td>0.0</td>\n",
       "      <td>0.0</td>\n",
       "      <td>0.0</td>\n",
       "      <td>0.0</td>\n",
       "      <td>0.0</td>\n",
       "      <td>1.0</td>\n",
       "      <td>0.0</td>\n",
       "    </tr>\n",
       "    <tr>\n",
       "      <th>4</th>\n",
       "      <td>0.0</td>\n",
       "      <td>0.0</td>\n",
       "      <td>0.0</td>\n",
       "      <td>0.0</td>\n",
       "      <td>0.0</td>\n",
       "      <td>0.0</td>\n",
       "      <td>0.0</td>\n",
       "      <td>0.0</td>\n",
       "      <td>0.0</td>\n",
       "      <td>0.0</td>\n",
       "      <td>...</td>\n",
       "      <td>0.0</td>\n",
       "      <td>0.0</td>\n",
       "      <td>1.0</td>\n",
       "      <td>0.0</td>\n",
       "      <td>0.0</td>\n",
       "      <td>0.0</td>\n",
       "      <td>0.0</td>\n",
       "      <td>0.0</td>\n",
       "      <td>1.0</td>\n",
       "      <td>0.0</td>\n",
       "    </tr>\n",
       "  </tbody>\n",
       "</table>\n",
       "<p>5 rows × 114 columns</p>\n",
       "</div>"
      ],
      "text/plain": [
       "   APPLICATION_TYPE_T10  APPLICATION_TYPE_T12  APPLICATION_TYPE_T13  \\\n",
       "0                   1.0                   0.0                   0.0   \n",
       "1                   0.0                   0.0                   0.0   \n",
       "2                   0.0                   0.0                   0.0   \n",
       "3                   0.0                   0.0                   0.0   \n",
       "4                   0.0                   0.0                   0.0   \n",
       "\n",
       "   APPLICATION_TYPE_T14  APPLICATION_TYPE_T15  APPLICATION_TYPE_T17  \\\n",
       "0                   0.0                   0.0                   0.0   \n",
       "1                   0.0                   0.0                   0.0   \n",
       "2                   0.0                   0.0                   0.0   \n",
       "3                   0.0                   0.0                   0.0   \n",
       "4                   0.0                   0.0                   0.0   \n",
       "\n",
       "   APPLICATION_TYPE_T19  APPLICATION_TYPE_T2  APPLICATION_TYPE_T25  \\\n",
       "0                   0.0                  0.0                   0.0   \n",
       "1                   0.0                  0.0                   0.0   \n",
       "2                   0.0                  0.0                   0.0   \n",
       "3                   0.0                  0.0                   0.0   \n",
       "4                   0.0                  0.0                   0.0   \n",
       "\n",
       "   APPLICATION_TYPE_T29  ...  INCOME_AMT_1-9999  INCOME_AMT_10000-24999  \\\n",
       "0                   0.0  ...                0.0                     0.0   \n",
       "1                   0.0  ...                1.0                     0.0   \n",
       "2                   0.0  ...                0.0                     0.0   \n",
       "3                   0.0  ...                0.0                     1.0   \n",
       "4                   0.0  ...                0.0                     0.0   \n",
       "\n",
       "   INCOME_AMT_100000-499999  INCOME_AMT_10M-50M  INCOME_AMT_1M-5M  \\\n",
       "0                       0.0                 0.0               0.0   \n",
       "1                       0.0                 0.0               0.0   \n",
       "2                       0.0                 0.0               0.0   \n",
       "3                       0.0                 0.0               0.0   \n",
       "4                       1.0                 0.0               0.0   \n",
       "\n",
       "   INCOME_AMT_25000-99999  INCOME_AMT_50M+  INCOME_AMT_5M-10M  \\\n",
       "0                     0.0              0.0                0.0   \n",
       "1                     0.0              0.0                0.0   \n",
       "2                     0.0              0.0                0.0   \n",
       "3                     0.0              0.0                0.0   \n",
       "4                     0.0              0.0                0.0   \n",
       "\n",
       "   SPECIAL_CONSIDERATIONS_N  SPECIAL_CONSIDERATIONS_Y  \n",
       "0                       1.0                       0.0  \n",
       "1                       1.0                       0.0  \n",
       "2                       1.0                       0.0  \n",
       "3                       1.0                       0.0  \n",
       "4                       1.0                       0.0  \n",
       "\n",
       "[5 rows x 114 columns]"
      ]
     },
     "execution_count": 202,
     "metadata": {},
     "output_type": "execute_result"
    }
   ],
   "source": [
    "# Create a DataFrame with the encoded variables\n",
    "encoded_df = pd.DataFrame(\n",
    "    encoded_data,\n",
    "    columns = enc.get_feature_names(categorical_variables)\n",
    ")\n",
    "\n",
    "\n",
    "# Review the DataFrame\n",
    "encoded_df.head()\n"
   ]
  },
  {
   "cell_type": "markdown",
   "metadata": {},
   "source": [
    "### Step 4: Add the original DataFrame’s numerical variables to the DataFrame containing the encoded variables.\n",
    "\n",
    "> **Note** To complete this step, you will employ the Pandas `concat()` function that was introduced earlier in this course. "
   ]
  },
  {
   "cell_type": "code",
   "execution_count": 203,
   "metadata": {},
   "outputs": [
    {
     "data": {
      "text/html": [
       "<div>\n",
       "<style scoped>\n",
       "    .dataframe tbody tr th:only-of-type {\n",
       "        vertical-align: middle;\n",
       "    }\n",
       "\n",
       "    .dataframe tbody tr th {\n",
       "        vertical-align: top;\n",
       "    }\n",
       "\n",
       "    .dataframe thead th {\n",
       "        text-align: right;\n",
       "    }\n",
       "</style>\n",
       "<table border=\"1\" class=\"dataframe\">\n",
       "  <thead>\n",
       "    <tr style=\"text-align: right;\">\n",
       "      <th></th>\n",
       "      <th>STATUS</th>\n",
       "      <th>ASK_AMT</th>\n",
       "      <th>IS_SUCCESSFUL</th>\n",
       "    </tr>\n",
       "  </thead>\n",
       "  <tbody>\n",
       "    <tr>\n",
       "      <th>0</th>\n",
       "      <td>1</td>\n",
       "      <td>5000</td>\n",
       "      <td>1</td>\n",
       "    </tr>\n",
       "    <tr>\n",
       "      <th>1</th>\n",
       "      <td>1</td>\n",
       "      <td>108590</td>\n",
       "      <td>1</td>\n",
       "    </tr>\n",
       "    <tr>\n",
       "      <th>2</th>\n",
       "      <td>1</td>\n",
       "      <td>5000</td>\n",
       "      <td>0</td>\n",
       "    </tr>\n",
       "    <tr>\n",
       "      <th>3</th>\n",
       "      <td>1</td>\n",
       "      <td>6692</td>\n",
       "      <td>1</td>\n",
       "    </tr>\n",
       "    <tr>\n",
       "      <th>4</th>\n",
       "      <td>1</td>\n",
       "      <td>142590</td>\n",
       "      <td>1</td>\n",
       "    </tr>\n",
       "  </tbody>\n",
       "</table>\n",
       "</div>"
      ],
      "text/plain": [
       "   STATUS  ASK_AMT  IS_SUCCESSFUL\n",
       "0       1     5000              1\n",
       "1       1   108590              1\n",
       "2       1     5000              0\n",
       "3       1     6692              1\n",
       "4       1   142590              1"
      ]
     },
     "execution_count": 203,
     "metadata": {},
     "output_type": "execute_result"
    }
   ],
   "source": [
    "numerical_variables_df = applicant_data_df.drop(columns = categorical_variables)\n",
    "\n",
    "# Review the DataFrame\n",
    "numerical_variables_df.head()"
   ]
  },
  {
   "cell_type": "code",
   "execution_count": 204,
   "metadata": {},
   "outputs": [
    {
     "data": {
      "text/html": [
       "<div>\n",
       "<style scoped>\n",
       "    .dataframe tbody tr th:only-of-type {\n",
       "        vertical-align: middle;\n",
       "    }\n",
       "\n",
       "    .dataframe tbody tr th {\n",
       "        vertical-align: top;\n",
       "    }\n",
       "\n",
       "    .dataframe thead th {\n",
       "        text-align: right;\n",
       "    }\n",
       "</style>\n",
       "<table border=\"1\" class=\"dataframe\">\n",
       "  <thead>\n",
       "    <tr style=\"text-align: right;\">\n",
       "      <th></th>\n",
       "      <th>STATUS</th>\n",
       "      <th>ASK_AMT</th>\n",
       "      <th>IS_SUCCESSFUL</th>\n",
       "      <th>APPLICATION_TYPE_T10</th>\n",
       "      <th>APPLICATION_TYPE_T12</th>\n",
       "      <th>APPLICATION_TYPE_T13</th>\n",
       "      <th>APPLICATION_TYPE_T14</th>\n",
       "      <th>APPLICATION_TYPE_T15</th>\n",
       "      <th>APPLICATION_TYPE_T17</th>\n",
       "      <th>APPLICATION_TYPE_T19</th>\n",
       "      <th>...</th>\n",
       "      <th>INCOME_AMT_1-9999</th>\n",
       "      <th>INCOME_AMT_10000-24999</th>\n",
       "      <th>INCOME_AMT_100000-499999</th>\n",
       "      <th>INCOME_AMT_10M-50M</th>\n",
       "      <th>INCOME_AMT_1M-5M</th>\n",
       "      <th>INCOME_AMT_25000-99999</th>\n",
       "      <th>INCOME_AMT_50M+</th>\n",
       "      <th>INCOME_AMT_5M-10M</th>\n",
       "      <th>SPECIAL_CONSIDERATIONS_N</th>\n",
       "      <th>SPECIAL_CONSIDERATIONS_Y</th>\n",
       "    </tr>\n",
       "  </thead>\n",
       "  <tbody>\n",
       "    <tr>\n",
       "      <th>0</th>\n",
       "      <td>1</td>\n",
       "      <td>5000</td>\n",
       "      <td>1</td>\n",
       "      <td>1.0</td>\n",
       "      <td>0.0</td>\n",
       "      <td>0.0</td>\n",
       "      <td>0.0</td>\n",
       "      <td>0.0</td>\n",
       "      <td>0.0</td>\n",
       "      <td>0.0</td>\n",
       "      <td>...</td>\n",
       "      <td>0.0</td>\n",
       "      <td>0.0</td>\n",
       "      <td>0.0</td>\n",
       "      <td>0.0</td>\n",
       "      <td>0.0</td>\n",
       "      <td>0.0</td>\n",
       "      <td>0.0</td>\n",
       "      <td>0.0</td>\n",
       "      <td>1.0</td>\n",
       "      <td>0.0</td>\n",
       "    </tr>\n",
       "    <tr>\n",
       "      <th>1</th>\n",
       "      <td>1</td>\n",
       "      <td>108590</td>\n",
       "      <td>1</td>\n",
       "      <td>0.0</td>\n",
       "      <td>0.0</td>\n",
       "      <td>0.0</td>\n",
       "      <td>0.0</td>\n",
       "      <td>0.0</td>\n",
       "      <td>0.0</td>\n",
       "      <td>0.0</td>\n",
       "      <td>...</td>\n",
       "      <td>1.0</td>\n",
       "      <td>0.0</td>\n",
       "      <td>0.0</td>\n",
       "      <td>0.0</td>\n",
       "      <td>0.0</td>\n",
       "      <td>0.0</td>\n",
       "      <td>0.0</td>\n",
       "      <td>0.0</td>\n",
       "      <td>1.0</td>\n",
       "      <td>0.0</td>\n",
       "    </tr>\n",
       "    <tr>\n",
       "      <th>2</th>\n",
       "      <td>1</td>\n",
       "      <td>5000</td>\n",
       "      <td>0</td>\n",
       "      <td>0.0</td>\n",
       "      <td>0.0</td>\n",
       "      <td>0.0</td>\n",
       "      <td>0.0</td>\n",
       "      <td>0.0</td>\n",
       "      <td>0.0</td>\n",
       "      <td>0.0</td>\n",
       "      <td>...</td>\n",
       "      <td>0.0</td>\n",
       "      <td>0.0</td>\n",
       "      <td>0.0</td>\n",
       "      <td>0.0</td>\n",
       "      <td>0.0</td>\n",
       "      <td>0.0</td>\n",
       "      <td>0.0</td>\n",
       "      <td>0.0</td>\n",
       "      <td>1.0</td>\n",
       "      <td>0.0</td>\n",
       "    </tr>\n",
       "    <tr>\n",
       "      <th>3</th>\n",
       "      <td>1</td>\n",
       "      <td>6692</td>\n",
       "      <td>1</td>\n",
       "      <td>0.0</td>\n",
       "      <td>0.0</td>\n",
       "      <td>0.0</td>\n",
       "      <td>0.0</td>\n",
       "      <td>0.0</td>\n",
       "      <td>0.0</td>\n",
       "      <td>0.0</td>\n",
       "      <td>...</td>\n",
       "      <td>0.0</td>\n",
       "      <td>1.0</td>\n",
       "      <td>0.0</td>\n",
       "      <td>0.0</td>\n",
       "      <td>0.0</td>\n",
       "      <td>0.0</td>\n",
       "      <td>0.0</td>\n",
       "      <td>0.0</td>\n",
       "      <td>1.0</td>\n",
       "      <td>0.0</td>\n",
       "    </tr>\n",
       "    <tr>\n",
       "      <th>4</th>\n",
       "      <td>1</td>\n",
       "      <td>142590</td>\n",
       "      <td>1</td>\n",
       "      <td>0.0</td>\n",
       "      <td>0.0</td>\n",
       "      <td>0.0</td>\n",
       "      <td>0.0</td>\n",
       "      <td>0.0</td>\n",
       "      <td>0.0</td>\n",
       "      <td>0.0</td>\n",
       "      <td>...</td>\n",
       "      <td>0.0</td>\n",
       "      <td>0.0</td>\n",
       "      <td>1.0</td>\n",
       "      <td>0.0</td>\n",
       "      <td>0.0</td>\n",
       "      <td>0.0</td>\n",
       "      <td>0.0</td>\n",
       "      <td>0.0</td>\n",
       "      <td>1.0</td>\n",
       "      <td>0.0</td>\n",
       "    </tr>\n",
       "  </tbody>\n",
       "</table>\n",
       "<p>5 rows × 117 columns</p>\n",
       "</div>"
      ],
      "text/plain": [
       "   STATUS  ASK_AMT  IS_SUCCESSFUL  APPLICATION_TYPE_T10  APPLICATION_TYPE_T12  \\\n",
       "0       1     5000              1                   1.0                   0.0   \n",
       "1       1   108590              1                   0.0                   0.0   \n",
       "2       1     5000              0                   0.0                   0.0   \n",
       "3       1     6692              1                   0.0                   0.0   \n",
       "4       1   142590              1                   0.0                   0.0   \n",
       "\n",
       "   APPLICATION_TYPE_T13  APPLICATION_TYPE_T14  APPLICATION_TYPE_T15  \\\n",
       "0                   0.0                   0.0                   0.0   \n",
       "1                   0.0                   0.0                   0.0   \n",
       "2                   0.0                   0.0                   0.0   \n",
       "3                   0.0                   0.0                   0.0   \n",
       "4                   0.0                   0.0                   0.0   \n",
       "\n",
       "   APPLICATION_TYPE_T17  APPLICATION_TYPE_T19  ...  INCOME_AMT_1-9999  \\\n",
       "0                   0.0                   0.0  ...                0.0   \n",
       "1                   0.0                   0.0  ...                1.0   \n",
       "2                   0.0                   0.0  ...                0.0   \n",
       "3                   0.0                   0.0  ...                0.0   \n",
       "4                   0.0                   0.0  ...                0.0   \n",
       "\n",
       "   INCOME_AMT_10000-24999  INCOME_AMT_100000-499999  INCOME_AMT_10M-50M  \\\n",
       "0                     0.0                       0.0                 0.0   \n",
       "1                     0.0                       0.0                 0.0   \n",
       "2                     0.0                       0.0                 0.0   \n",
       "3                     1.0                       0.0                 0.0   \n",
       "4                     0.0                       1.0                 0.0   \n",
       "\n",
       "   INCOME_AMT_1M-5M  INCOME_AMT_25000-99999  INCOME_AMT_50M+  \\\n",
       "0               0.0                     0.0              0.0   \n",
       "1               0.0                     0.0              0.0   \n",
       "2               0.0                     0.0              0.0   \n",
       "3               0.0                     0.0              0.0   \n",
       "4               0.0                     0.0              0.0   \n",
       "\n",
       "   INCOME_AMT_5M-10M  SPECIAL_CONSIDERATIONS_N  SPECIAL_CONSIDERATIONS_Y  \n",
       "0                0.0                       1.0                       0.0  \n",
       "1                0.0                       1.0                       0.0  \n",
       "2                0.0                       1.0                       0.0  \n",
       "3                0.0                       1.0                       0.0  \n",
       "4                0.0                       1.0                       0.0  \n",
       "\n",
       "[5 rows x 117 columns]"
      ]
     },
     "execution_count": 204,
     "metadata": {},
     "output_type": "execute_result"
    }
   ],
   "source": [
    "# Add the numerical variables from the original DataFrame to the one-hot encoding DataFrame\n",
    "encoded_df = pd.concat(\n",
    "    [\n",
    "        numerical_variables_df,\n",
    "        encoded_df\n",
    "    ],\n",
    "    axis=1\n",
    ")\n",
    "# Review the Dataframe\n",
    "encoded_df.head()\n"
   ]
  },
  {
   "cell_type": "markdown",
   "metadata": {},
   "source": [
    "### Step 5: Using the preprocessed data, create the features (`X`) and target (`y`) datasets. The target dataset should be defined by the preprocessed DataFrame column “IS_SUCCESSFUL”. The remaining columns should define the features dataset. \n",
    "\n"
   ]
  },
  {
   "cell_type": "code",
   "execution_count": 205,
   "metadata": {},
   "outputs": [
    {
     "data": {
      "text/plain": [
       "0    1\n",
       "1    1\n",
       "2    0\n",
       "3    1\n",
       "4    1\n",
       "Name: IS_SUCCESSFUL, dtype: int64"
      ]
     },
     "execution_count": 205,
     "metadata": {},
     "output_type": "execute_result"
    }
   ],
   "source": [
    "# Define the target set y using the IS_SUCCESSFUL column\n",
    "y = encoded_df[\"IS_SUCCESSFUL\"]\n",
    "\n",
    "# Display a sample of y\n",
    "y[:5]\n"
   ]
  },
  {
   "cell_type": "code",
   "execution_count": 206,
   "metadata": {},
   "outputs": [
    {
     "data": {
      "text/html": [
       "<div>\n",
       "<style scoped>\n",
       "    .dataframe tbody tr th:only-of-type {\n",
       "        vertical-align: middle;\n",
       "    }\n",
       "\n",
       "    .dataframe tbody tr th {\n",
       "        vertical-align: top;\n",
       "    }\n",
       "\n",
       "    .dataframe thead th {\n",
       "        text-align: right;\n",
       "    }\n",
       "</style>\n",
       "<table border=\"1\" class=\"dataframe\">\n",
       "  <thead>\n",
       "    <tr style=\"text-align: right;\">\n",
       "      <th></th>\n",
       "      <th>STATUS</th>\n",
       "      <th>ASK_AMT</th>\n",
       "      <th>APPLICATION_TYPE_T10</th>\n",
       "      <th>APPLICATION_TYPE_T12</th>\n",
       "      <th>APPLICATION_TYPE_T13</th>\n",
       "      <th>APPLICATION_TYPE_T14</th>\n",
       "      <th>APPLICATION_TYPE_T15</th>\n",
       "      <th>APPLICATION_TYPE_T17</th>\n",
       "      <th>APPLICATION_TYPE_T19</th>\n",
       "      <th>APPLICATION_TYPE_T2</th>\n",
       "      <th>...</th>\n",
       "      <th>INCOME_AMT_1-9999</th>\n",
       "      <th>INCOME_AMT_10000-24999</th>\n",
       "      <th>INCOME_AMT_100000-499999</th>\n",
       "      <th>INCOME_AMT_10M-50M</th>\n",
       "      <th>INCOME_AMT_1M-5M</th>\n",
       "      <th>INCOME_AMT_25000-99999</th>\n",
       "      <th>INCOME_AMT_50M+</th>\n",
       "      <th>INCOME_AMT_5M-10M</th>\n",
       "      <th>SPECIAL_CONSIDERATIONS_N</th>\n",
       "      <th>SPECIAL_CONSIDERATIONS_Y</th>\n",
       "    </tr>\n",
       "  </thead>\n",
       "  <tbody>\n",
       "    <tr>\n",
       "      <th>0</th>\n",
       "      <td>1</td>\n",
       "      <td>5000</td>\n",
       "      <td>1.0</td>\n",
       "      <td>0.0</td>\n",
       "      <td>0.0</td>\n",
       "      <td>0.0</td>\n",
       "      <td>0.0</td>\n",
       "      <td>0.0</td>\n",
       "      <td>0.0</td>\n",
       "      <td>0.0</td>\n",
       "      <td>...</td>\n",
       "      <td>0.0</td>\n",
       "      <td>0.0</td>\n",
       "      <td>0.0</td>\n",
       "      <td>0.0</td>\n",
       "      <td>0.0</td>\n",
       "      <td>0.0</td>\n",
       "      <td>0.0</td>\n",
       "      <td>0.0</td>\n",
       "      <td>1.0</td>\n",
       "      <td>0.0</td>\n",
       "    </tr>\n",
       "    <tr>\n",
       "      <th>1</th>\n",
       "      <td>1</td>\n",
       "      <td>108590</td>\n",
       "      <td>0.0</td>\n",
       "      <td>0.0</td>\n",
       "      <td>0.0</td>\n",
       "      <td>0.0</td>\n",
       "      <td>0.0</td>\n",
       "      <td>0.0</td>\n",
       "      <td>0.0</td>\n",
       "      <td>0.0</td>\n",
       "      <td>...</td>\n",
       "      <td>1.0</td>\n",
       "      <td>0.0</td>\n",
       "      <td>0.0</td>\n",
       "      <td>0.0</td>\n",
       "      <td>0.0</td>\n",
       "      <td>0.0</td>\n",
       "      <td>0.0</td>\n",
       "      <td>0.0</td>\n",
       "      <td>1.0</td>\n",
       "      <td>0.0</td>\n",
       "    </tr>\n",
       "    <tr>\n",
       "      <th>2</th>\n",
       "      <td>1</td>\n",
       "      <td>5000</td>\n",
       "      <td>0.0</td>\n",
       "      <td>0.0</td>\n",
       "      <td>0.0</td>\n",
       "      <td>0.0</td>\n",
       "      <td>0.0</td>\n",
       "      <td>0.0</td>\n",
       "      <td>0.0</td>\n",
       "      <td>0.0</td>\n",
       "      <td>...</td>\n",
       "      <td>0.0</td>\n",
       "      <td>0.0</td>\n",
       "      <td>0.0</td>\n",
       "      <td>0.0</td>\n",
       "      <td>0.0</td>\n",
       "      <td>0.0</td>\n",
       "      <td>0.0</td>\n",
       "      <td>0.0</td>\n",
       "      <td>1.0</td>\n",
       "      <td>0.0</td>\n",
       "    </tr>\n",
       "    <tr>\n",
       "      <th>3</th>\n",
       "      <td>1</td>\n",
       "      <td>6692</td>\n",
       "      <td>0.0</td>\n",
       "      <td>0.0</td>\n",
       "      <td>0.0</td>\n",
       "      <td>0.0</td>\n",
       "      <td>0.0</td>\n",
       "      <td>0.0</td>\n",
       "      <td>0.0</td>\n",
       "      <td>0.0</td>\n",
       "      <td>...</td>\n",
       "      <td>0.0</td>\n",
       "      <td>1.0</td>\n",
       "      <td>0.0</td>\n",
       "      <td>0.0</td>\n",
       "      <td>0.0</td>\n",
       "      <td>0.0</td>\n",
       "      <td>0.0</td>\n",
       "      <td>0.0</td>\n",
       "      <td>1.0</td>\n",
       "      <td>0.0</td>\n",
       "    </tr>\n",
       "    <tr>\n",
       "      <th>4</th>\n",
       "      <td>1</td>\n",
       "      <td>142590</td>\n",
       "      <td>0.0</td>\n",
       "      <td>0.0</td>\n",
       "      <td>0.0</td>\n",
       "      <td>0.0</td>\n",
       "      <td>0.0</td>\n",
       "      <td>0.0</td>\n",
       "      <td>0.0</td>\n",
       "      <td>0.0</td>\n",
       "      <td>...</td>\n",
       "      <td>0.0</td>\n",
       "      <td>0.0</td>\n",
       "      <td>1.0</td>\n",
       "      <td>0.0</td>\n",
       "      <td>0.0</td>\n",
       "      <td>0.0</td>\n",
       "      <td>0.0</td>\n",
       "      <td>0.0</td>\n",
       "      <td>1.0</td>\n",
       "      <td>0.0</td>\n",
       "    </tr>\n",
       "  </tbody>\n",
       "</table>\n",
       "<p>5 rows × 116 columns</p>\n",
       "</div>"
      ],
      "text/plain": [
       "   STATUS  ASK_AMT  APPLICATION_TYPE_T10  APPLICATION_TYPE_T12  \\\n",
       "0       1     5000                   1.0                   0.0   \n",
       "1       1   108590                   0.0                   0.0   \n",
       "2       1     5000                   0.0                   0.0   \n",
       "3       1     6692                   0.0                   0.0   \n",
       "4       1   142590                   0.0                   0.0   \n",
       "\n",
       "   APPLICATION_TYPE_T13  APPLICATION_TYPE_T14  APPLICATION_TYPE_T15  \\\n",
       "0                   0.0                   0.0                   0.0   \n",
       "1                   0.0                   0.0                   0.0   \n",
       "2                   0.0                   0.0                   0.0   \n",
       "3                   0.0                   0.0                   0.0   \n",
       "4                   0.0                   0.0                   0.0   \n",
       "\n",
       "   APPLICATION_TYPE_T17  APPLICATION_TYPE_T19  APPLICATION_TYPE_T2  ...  \\\n",
       "0                   0.0                   0.0                  0.0  ...   \n",
       "1                   0.0                   0.0                  0.0  ...   \n",
       "2                   0.0                   0.0                  0.0  ...   \n",
       "3                   0.0                   0.0                  0.0  ...   \n",
       "4                   0.0                   0.0                  0.0  ...   \n",
       "\n",
       "   INCOME_AMT_1-9999  INCOME_AMT_10000-24999  INCOME_AMT_100000-499999  \\\n",
       "0                0.0                     0.0                       0.0   \n",
       "1                1.0                     0.0                       0.0   \n",
       "2                0.0                     0.0                       0.0   \n",
       "3                0.0                     1.0                       0.0   \n",
       "4                0.0                     0.0                       1.0   \n",
       "\n",
       "   INCOME_AMT_10M-50M  INCOME_AMT_1M-5M  INCOME_AMT_25000-99999  \\\n",
       "0                 0.0               0.0                     0.0   \n",
       "1                 0.0               0.0                     0.0   \n",
       "2                 0.0               0.0                     0.0   \n",
       "3                 0.0               0.0                     0.0   \n",
       "4                 0.0               0.0                     0.0   \n",
       "\n",
       "   INCOME_AMT_50M+  INCOME_AMT_5M-10M  SPECIAL_CONSIDERATIONS_N  \\\n",
       "0              0.0                0.0                       1.0   \n",
       "1              0.0                0.0                       1.0   \n",
       "2              0.0                0.0                       1.0   \n",
       "3              0.0                0.0                       1.0   \n",
       "4              0.0                0.0                       1.0   \n",
       "\n",
       "   SPECIAL_CONSIDERATIONS_Y  \n",
       "0                       0.0  \n",
       "1                       0.0  \n",
       "2                       0.0  \n",
       "3                       0.0  \n",
       "4                       0.0  \n",
       "\n",
       "[5 rows x 116 columns]"
      ]
     },
     "execution_count": 206,
     "metadata": {},
     "output_type": "execute_result"
    }
   ],
   "source": [
    "# Define features set X by selecting all columns but IS_SUCCESSFUL\n",
    "X = encoded_df.drop(columns=[\"IS_SUCCESSFUL\"])\n",
    "\n",
    "# Review the features DataFrame\n",
    "X[:5]"
   ]
  },
  {
   "cell_type": "markdown",
   "metadata": {},
   "source": [
    "### Step 6: Split the features and target sets into training and testing datasets.\n"
   ]
  },
  {
   "cell_type": "code",
   "execution_count": 207,
   "metadata": {},
   "outputs": [],
   "source": [
    "# Split the preprocessed data into a training and testing dataset\n",
    "# Assign the function a random_state equal to 1\n",
    "X_train, X_test, y_train, y_test = train_test_split(X, y, random_state=1)\n"
   ]
  },
  {
   "cell_type": "markdown",
   "metadata": {},
   "source": [
    "### Step 7: Use scikit-learn's `StandardScaler` to scale the features data."
   ]
  },
  {
   "cell_type": "code",
   "execution_count": 208,
   "metadata": {},
   "outputs": [],
   "source": [
    "# Create a StandardScaler instance\n",
    "scaler = StandardScaler()\n",
    "\n",
    "# Fit the scaler to the features training dataset\n",
    "X_scaler = scaler.fit(X_train)\n",
    "\n",
    "# Fit the scaler to the features training dataset\n",
    "X_train_scaled = X_scaler.transform(X_train)\n",
    "X_test_scaled = X_scaler.transform(X_test)\n"
   ]
  },
  {
   "cell_type": "markdown",
   "metadata": {},
   "source": [
    "---\n",
    "\n",
    "## Compile and Evaluate a Binary Classification Model Using a Neural Network"
   ]
  },
  {
   "cell_type": "markdown",
   "metadata": {},
   "source": [
    "### Step 1: Create a deep neural network by assigning the number of input features, the number of layers, and the number of neurons on each layer using Tensorflow’s Keras.\n",
    "\n",
    "> **Hint** You can start with a two-layer deep neural network model that uses the `relu` activation function for both layers.\n"
   ]
  },
  {
   "cell_type": "code",
   "execution_count": 209,
   "metadata": {},
   "outputs": [
    {
     "data": {
      "text/plain": [
       "116"
      ]
     },
     "execution_count": 209,
     "metadata": {},
     "output_type": "execute_result"
    }
   ],
   "source": [
    "# Define the the number of inputs (features) to the model\n",
    "number_input_features = len(X_train.iloc[0])\n",
    "\n",
    "# Review the number of features\n",
    "number_input_features \n"
   ]
  },
  {
   "cell_type": "code",
   "execution_count": 210,
   "metadata": {},
   "outputs": [],
   "source": [
    "# Define the number of neurons in the output layer\n",
    "number_output_neurons = 1"
   ]
  },
  {
   "cell_type": "code",
   "execution_count": 211,
   "metadata": {},
   "outputs": [
    {
     "data": {
      "text/plain": [
       "58"
      ]
     },
     "execution_count": 211,
     "metadata": {},
     "output_type": "execute_result"
    }
   ],
   "source": [
    "# Define the number of hidden nodes for the first hidden layer\n",
    "hidden_nodes_layer1 =  (number_input_features + 1) // 2 \n",
    "\n",
    "# Review the number hidden nodes in the first layer\n",
    "hidden_nodes_layer1 \n"
   ]
  },
  {
   "cell_type": "code",
   "execution_count": 212,
   "metadata": {},
   "outputs": [
    {
     "data": {
      "text/plain": [
       "29"
      ]
     },
     "execution_count": 212,
     "metadata": {},
     "output_type": "execute_result"
    }
   ],
   "source": [
    "# Define the number of hidden nodes for the second hidden layer\n",
    "hidden_nodes_layer2 = (hidden_nodes_layer1 + 1) // 2\n",
    "\n",
    "\n",
    "# Review the number hidden nodes in the second layer\n",
    "hidden_nodes_layer2 \n"
   ]
  },
  {
   "cell_type": "code",
   "execution_count": 213,
   "metadata": {},
   "outputs": [],
   "source": [
    "# Create the Sequential model instance\n",
    "nn = Sequential()\n"
   ]
  },
  {
   "cell_type": "code",
   "execution_count": 214,
   "metadata": {},
   "outputs": [],
   "source": [
    "# Add the first hidden layer\n",
    "nn.add(Dense(units=hidden_nodes_layer1, input_dim=number_input_features, activation=\"relu\"))\n"
   ]
  },
  {
   "cell_type": "code",
   "execution_count": 215,
   "metadata": {},
   "outputs": [],
   "source": [
    "# Add the second hidden layer\n",
    "nn.add(Dense(units=hidden_nodes_layer2, activation=\"relu\"))\n"
   ]
  },
  {
   "cell_type": "code",
   "execution_count": 216,
   "metadata": {},
   "outputs": [],
   "source": [
    "# Add the output layer to the model specifying the number of output neurons and activation function\n",
    "nn.add(Dense(units=1, activation=\"sigmoid\"))\n"
   ]
  },
  {
   "cell_type": "code",
   "execution_count": 217,
   "metadata": {},
   "outputs": [
    {
     "name": "stdout",
     "output_type": "stream",
     "text": [
      "Model: \"sequential_13\"\n",
      "_________________________________________________________________\n",
      " Layer (type)                Output Shape              Param #   \n",
      "=================================================================\n",
      " dense_46 (Dense)            (None, 58)                6786      \n",
      "                                                                 \n",
      " dense_47 (Dense)            (None, 29)                1711      \n",
      "                                                                 \n",
      " dense_48 (Dense)            (None, 1)                 30        \n",
      "                                                                 \n",
      "=================================================================\n",
      "Total params: 8,527\n",
      "Trainable params: 8,527\n",
      "Non-trainable params: 0\n",
      "_________________________________________________________________\n"
     ]
    }
   ],
   "source": [
    "# Display the Sequential model summary\n",
    "nn.summary()"
   ]
  },
  {
   "cell_type": "markdown",
   "metadata": {},
   "source": [
    "### Step 2: Compile and fit the model using the `binary_crossentropy` loss function, the `adam` optimizer, and the `accuracy` evaluation metric.\n"
   ]
  },
  {
   "cell_type": "code",
   "execution_count": 218,
   "metadata": {},
   "outputs": [],
   "source": [
    "# Compile the Sequential model\n",
    "nn.compile(loss=\"binary_crossentropy\", optimizer=\"adam\", metrics=[\"accuracy\"])\n"
   ]
  },
  {
   "cell_type": "code",
   "execution_count": 219,
   "metadata": {},
   "outputs": [
    {
     "name": "stdout",
     "output_type": "stream",
     "text": [
      "Epoch 1/50\n",
      "804/804 [==============================] - 1s 649us/step - loss: 43025.3008 - accuracy: 0.4873\n",
      "Epoch 2/50\n",
      "804/804 [==============================] - 1s 649us/step - loss: 48019.6133 - accuracy: 0.5047\n",
      "Epoch 3/50\n",
      "804/804 [==============================] - 1s 630us/step - loss: 16750.1289 - accuracy: 0.4872\n",
      "Epoch 4/50\n",
      "804/804 [==============================] - 1s 645us/step - loss: 16306.9707 - accuracy: 0.5095\n",
      "Epoch 5/50\n",
      "804/804 [==============================] - 1s 638us/step - loss: 10796.2246 - accuracy: 0.4960\n",
      "Epoch 6/50\n",
      "804/804 [==============================] - 1s 641us/step - loss: 9925.3809 - accuracy: 0.5201\n",
      "Epoch 7/50\n",
      "804/804 [==============================] - 1s 631us/step - loss: 2722.2227 - accuracy: 0.5218\n",
      "Epoch 8/50\n",
      "804/804 [==============================] - 1s 628us/step - loss: 3130.3989 - accuracy: 0.5087\n",
      "Epoch 9/50\n",
      "804/804 [==============================] - 1s 634us/step - loss: 6352.1318 - accuracy: 0.5174\n",
      "Epoch 10/50\n",
      "804/804 [==============================] - 1s 632us/step - loss: 12166.2178 - accuracy: 0.5068\n",
      "Epoch 11/50\n",
      "804/804 [==============================] - 1s 628us/step - loss: 1805.8230 - accuracy: 0.5012\n",
      "Epoch 12/50\n",
      "804/804 [==============================] - 1s 626us/step - loss: 3383.1621 - accuracy: 0.5048\n",
      "Epoch 13/50\n",
      "804/804 [==============================] - 1s 631us/step - loss: 10980.3760 - accuracy: 0.5123\n",
      "Epoch 14/50\n",
      "804/804 [==============================] - 1s 633us/step - loss: 2232.2607 - accuracy: 0.5205\n",
      "Epoch 15/50\n",
      "804/804 [==============================] - 1s 633us/step - loss: 338.5767 - accuracy: 0.5067\n",
      "Epoch 16/50\n",
      "804/804 [==============================] - 1s 627us/step - loss: 1746.3538 - accuracy: 0.5114\n",
      "Epoch 17/50\n",
      "804/804 [==============================] - 1s 627us/step - loss: 760.3984 - accuracy: 0.5114\n",
      "Epoch 18/50\n",
      "804/804 [==============================] - 1s 639us/step - loss: 0.7021 - accuracy: 0.5335\n",
      "Epoch 19/50\n",
      "804/804 [==============================] - 1s 634us/step - loss: 0.6597 - accuracy: 0.5470\n",
      "Epoch 20/50\n",
      "804/804 [==============================] - 1s 633us/step - loss: 0.6388 - accuracy: 0.6350\n",
      "Epoch 21/50\n",
      "804/804 [==============================] - 1s 643us/step - loss: 0.6346 - accuracy: 0.6385\n",
      "Epoch 22/50\n",
      "804/804 [==============================] - 1s 652us/step - loss: 0.6292 - accuracy: 0.6532\n",
      "Epoch 23/50\n",
      "804/804 [==============================] - 1s 638us/step - loss: 0.6439 - accuracy: 0.6305\n",
      "Epoch 24/50\n",
      "804/804 [==============================] - 1s 636us/step - loss: 0.6361 - accuracy: 0.6349\n",
      "Epoch 25/50\n",
      "804/804 [==============================] - 1s 641us/step - loss: 0.6291 - accuracy: 0.6543\n",
      "Epoch 26/50\n",
      "804/804 [==============================] - 1s 638us/step - loss: 0.6265 - accuracy: 0.6663\n",
      "Epoch 27/50\n",
      "804/804 [==============================] - 1s 640us/step - loss: 0.7038 - accuracy: 0.5037\n",
      "Epoch 28/50\n",
      "804/804 [==============================] - 1s 630us/step - loss: 0.6910 - accuracy: 0.5335\n",
      "Epoch 29/50\n",
      "804/804 [==============================] - 0s 619us/step - loss: 0.6910 - accuracy: 0.5335\n",
      "Epoch 30/50\n",
      "804/804 [==============================] - 1s 621us/step - loss: 0.6909 - accuracy: 0.5335\n",
      "Epoch 31/50\n",
      "804/804 [==============================] - 1s 628us/step - loss: 0.6910 - accuracy: 0.5335\n",
      "Epoch 32/50\n",
      "804/804 [==============================] - 0s 619us/step - loss: 0.6909 - accuracy: 0.5335\n",
      "Epoch 33/50\n",
      "804/804 [==============================] - 0s 619us/step - loss: 0.6909 - accuracy: 0.5335\n",
      "Epoch 34/50\n",
      "804/804 [==============================] - 0s 618us/step - loss: 0.6910 - accuracy: 0.5335\n",
      "Epoch 35/50\n",
      "804/804 [==============================] - 1s 628us/step - loss: 0.6909 - accuracy: 0.5335\n",
      "Epoch 36/50\n",
      "804/804 [==============================] - 1s 624us/step - loss: 0.6910 - accuracy: 0.5335\n",
      "Epoch 37/50\n",
      "804/804 [==============================] - 0s 616us/step - loss: 0.6909 - accuracy: 0.5335\n",
      "Epoch 38/50\n",
      "804/804 [==============================] - 0s 621us/step - loss: 0.6910 - accuracy: 0.5335\n",
      "Epoch 39/50\n",
      "804/804 [==============================] - 1s 623us/step - loss: 0.6909 - accuracy: 0.5335\n",
      "Epoch 40/50\n",
      "804/804 [==============================] - 1s 641us/step - loss: 0.6910 - accuracy: 0.5335\n",
      "Epoch 41/50\n",
      "804/804 [==============================] - 1s 636us/step - loss: 0.6909 - accuracy: 0.5335\n",
      "Epoch 42/50\n",
      "804/804 [==============================] - 1s 648us/step - loss: 0.6909 - accuracy: 0.5335\n",
      "Epoch 43/50\n",
      "804/804 [==============================] - 1s 641us/step - loss: 0.6910 - accuracy: 0.5335\n",
      "Epoch 44/50\n",
      "804/804 [==============================] - 1s 628us/step - loss: 0.6910 - accuracy: 0.5335\n",
      "Epoch 45/50\n",
      "804/804 [==============================] - 1s 639us/step - loss: 0.6910 - accuracy: 0.5335\n",
      "Epoch 46/50\n",
      "804/804 [==============================] - 1s 647us/step - loss: 0.6910 - accuracy: 0.5335\n",
      "Epoch 47/50\n",
      "804/804 [==============================] - 1s 660us/step - loss: 0.6910 - accuracy: 0.5335\n",
      "Epoch 48/50\n",
      "804/804 [==============================] - 1s 648us/step - loss: 0.6910 - accuracy: 0.5335\n",
      "Epoch 49/50\n",
      "804/804 [==============================] - 1s 638us/step - loss: 0.6910 - accuracy: 0.5335\n",
      "Epoch 50/50\n",
      "804/804 [==============================] - 1s 624us/step - loss: 0.6910 - accuracy: 0.5335\n"
     ]
    }
   ],
   "source": [
    "# Fit the model using 50 epochs and the training data\n",
    "fit_model = nn.fit(X_train, y_train, epochs=50)\n"
   ]
  },
  {
   "cell_type": "markdown",
   "metadata": {},
   "source": [
    "### Step 3: Evaluate the model using the test data to determine the model’s loss and accuracy.\n"
   ]
  },
  {
   "cell_type": "code",
   "execution_count": 220,
   "metadata": {},
   "outputs": [
    {
     "name": "stdout",
     "output_type": "stream",
     "text": [
      "268/268 - 0s - loss: 0.6915 - accuracy: 0.5292 - 183ms/epoch - 683us/step\n",
      "Loss: 0.6915470957756042, Accuracy: 0.5292128324508667\n"
     ]
    }
   ],
   "source": [
    "# Evaluate the model loss and accuracy metrics using the evaluate method and the test data\n",
    "model_loss, model_accuracy = nn.evaluate(X_test,y_test,verbose=2)\n",
    "# Display the model loss and accuracy results\n",
    "print(f\"Loss: {model_loss}, Accuracy: {model_accuracy}\")"
   ]
  },
  {
   "cell_type": "markdown",
   "metadata": {},
   "source": [
    "### Step 4: Save and export your model to an HDF5 file, and name the file `AlphabetSoup.h5`. \n"
   ]
  },
  {
   "cell_type": "code",
   "execution_count": 221,
   "metadata": {},
   "outputs": [],
   "source": [
    "# Set the model's file path\n",
    "file_path = Path(\"../Resources/nn.h5\")\n",
    "\n",
    "# Export your model to a HDF5 file\n",
    "nn.save(file_path)\n"
   ]
  },
  {
   "cell_type": "markdown",
   "metadata": {},
   "source": [
    "---\n",
    "\n",
    "## Optimize the neural network model\n"
   ]
  },
  {
   "cell_type": "markdown",
   "metadata": {},
   "source": [
    "### Step 1: Define at least three new deep neural network models (resulting in the original plus 3 optimization attempts). With each, try to improve on your first model’s predictive accuracy.\n",
    "\n",
    "> **Rewind** Recall that perfect accuracy has a value of 1, so accuracy improves as its value moves closer to 1. To optimize your model for a predictive accuracy as close to 1 as possible, you can use any or all of the following techniques:\n",
    ">\n",
    "> * Adjust the input data by dropping different features columns to ensure that no variables or outliers confuse the model.\n",
    ">\n",
    "> * Add more neurons (nodes) to a hidden layer.\n",
    ">\n",
    "> * Add more hidden layers.\n",
    ">\n",
    "> * Use different activation functions for the hidden layers.\n",
    ">\n",
    "> * Add to or reduce the number of epochs in the training regimen.\n"
   ]
  },
  {
   "cell_type": "markdown",
   "metadata": {},
   "source": [
    "### Alternative Model 1"
   ]
  },
  {
   "cell_type": "code",
   "execution_count": 222,
   "metadata": {},
   "outputs": [
    {
     "data": {
      "text/plain": [
       "116"
      ]
     },
     "execution_count": 222,
     "metadata": {},
     "output_type": "execute_result"
    }
   ],
   "source": [
    "# Define the the number of inputs (features) to the model\n",
    "number_input_features = len(X_train.iloc[0])\n",
    "\n",
    "# Review the number of features\n",
    "number_input_features"
   ]
  },
  {
   "cell_type": "code",
   "execution_count": 223,
   "metadata": {},
   "outputs": [],
   "source": [
    "# Define the number of neurons in the output layer\n",
    "number_output_neurons_A1 = 1"
   ]
  },
  {
   "cell_type": "code",
   "execution_count": 224,
   "metadata": {},
   "outputs": [
    {
     "data": {
      "text/plain": [
       "58"
      ]
     },
     "execution_count": 224,
     "metadata": {},
     "output_type": "execute_result"
    }
   ],
   "source": [
    "# Define the number of hidden nodes for the first hidden layer\n",
    "hidden_nodes_layer1_A1 = (number_input_features + 1) // 2 \n",
    "\n",
    "# Review the number of hidden nodes in the first layer\n",
    "hidden_nodes_layer1_A1"
   ]
  },
  {
   "cell_type": "code",
   "execution_count": 225,
   "metadata": {},
   "outputs": [],
   "source": [
    "# Create the Sequential model instance\n",
    "nn_A1 = Sequential()"
   ]
  },
  {
   "cell_type": "code",
   "execution_count": 226,
   "metadata": {},
   "outputs": [
    {
     "name": "stdout",
     "output_type": "stream",
     "text": [
      "Model: \"sequential_14\"\n",
      "_________________________________________________________________\n",
      " Layer (type)                Output Shape              Param #   \n",
      "=================================================================\n",
      " dense_49 (Dense)            (None, 58)                6786      \n",
      "                                                                 \n",
      " dense_50 (Dense)            (None, 1)                 59        \n",
      "                                                                 \n",
      "=================================================================\n",
      "Total params: 6,845\n",
      "Trainable params: 6,845\n",
      "Non-trainable params: 0\n",
      "_________________________________________________________________\n"
     ]
    }
   ],
   "source": [
    "# First hidden layer\n",
    "nn_A1.add(Dense(units=hidden_nodes_layer1_A1, input_dim=number_input_features, activation=\"relu\"))# YOUR CODE HERE\n",
    "\n",
    "\n",
    "# Output layer\n",
    "nn_A1.add(Dense(units=number_output_neurons_A1, activation=\"sigmoid\"))\n",
    "\n",
    "# Check the structure of the model\n",
    "nn_A1.summary()"
   ]
  },
  {
   "cell_type": "code",
   "execution_count": 227,
   "metadata": {},
   "outputs": [],
   "source": [
    "# Compile the Sequential model\n",
    "nn_A1.compile(loss=\"binary_crossentropy\", optimizer=\"sgd\", metrics=[\"accuracy\"])\n"
   ]
  },
  {
   "cell_type": "code",
   "execution_count": 228,
   "metadata": {},
   "outputs": [
    {
     "name": "stdout",
     "output_type": "stream",
     "text": [
      "Epoch 1/50\n",
      "563/563 [==============================] - 1s 895us/step - loss: 0.6289 - accuracy: 0.6840 - val_loss: 0.5907 - val_accuracy: 0.7174\n",
      "Epoch 2/50\n",
      "563/563 [==============================] - 0s 773us/step - loss: 0.5793 - accuracy: 0.7160 - val_loss: 0.5724 - val_accuracy: 0.7295\n",
      "Epoch 3/50\n",
      "563/563 [==============================] - 0s 776us/step - loss: 0.5687 - accuracy: 0.7198 - val_loss: 0.5694 - val_accuracy: 0.7315\n",
      "Epoch 4/50\n",
      "563/563 [==============================] - 0s 785us/step - loss: 0.5643 - accuracy: 0.7203 - val_loss: 0.5661 - val_accuracy: 0.7286\n",
      "Epoch 5/50\n",
      "563/563 [==============================] - 0s 776us/step - loss: 0.5617 - accuracy: 0.7230 - val_loss: 0.5651 - val_accuracy: 0.7296\n",
      "Epoch 6/50\n",
      "563/563 [==============================] - 0s 778us/step - loss: 0.5597 - accuracy: 0.7235 - val_loss: 0.5624 - val_accuracy: 0.7308\n",
      "Epoch 7/50\n",
      "563/563 [==============================] - 0s 797us/step - loss: 0.5580 - accuracy: 0.7247 - val_loss: 0.5610 - val_accuracy: 0.7365\n",
      "Epoch 8/50\n",
      "563/563 [==============================] - 0s 786us/step - loss: 0.5569 - accuracy: 0.7250 - val_loss: 0.5606 - val_accuracy: 0.7332\n",
      "Epoch 9/50\n",
      "563/563 [==============================] - 0s 781us/step - loss: 0.5556 - accuracy: 0.7250 - val_loss: 0.5605 - val_accuracy: 0.7344\n",
      "Epoch 10/50\n",
      "563/563 [==============================] - 0s 791us/step - loss: 0.5548 - accuracy: 0.7262 - val_loss: 0.5590 - val_accuracy: 0.7367\n",
      "Epoch 11/50\n",
      "563/563 [==============================] - 0s 804us/step - loss: 0.5541 - accuracy: 0.7274 - val_loss: 0.5595 - val_accuracy: 0.7346\n",
      "Epoch 12/50\n",
      "563/563 [==============================] - 0s 796us/step - loss: 0.5536 - accuracy: 0.7273 - val_loss: 0.5598 - val_accuracy: 0.7345\n",
      "Epoch 13/50\n",
      "563/563 [==============================] - 0s 833us/step - loss: 0.5525 - accuracy: 0.7284 - val_loss: 0.5581 - val_accuracy: 0.7357\n",
      "Epoch 14/50\n",
      "563/563 [==============================] - 0s 845us/step - loss: 0.5519 - accuracy: 0.7287 - val_loss: 0.5593 - val_accuracy: 0.7348\n",
      "Epoch 15/50\n",
      "563/563 [==============================] - 0s 783us/step - loss: 0.5515 - accuracy: 0.7271 - val_loss: 0.5568 - val_accuracy: 0.7368\n",
      "Epoch 16/50\n",
      "563/563 [==============================] - 0s 796us/step - loss: 0.5508 - accuracy: 0.7271 - val_loss: 0.5582 - val_accuracy: 0.7354\n",
      "Epoch 17/50\n",
      "563/563 [==============================] - 0s 806us/step - loss: 0.5503 - accuracy: 0.7270 - val_loss: 0.5574 - val_accuracy: 0.7367\n",
      "Epoch 18/50\n",
      "563/563 [==============================] - 0s 803us/step - loss: 0.5499 - accuracy: 0.7283 - val_loss: 0.5583 - val_accuracy: 0.7344\n",
      "Epoch 19/50\n",
      "563/563 [==============================] - 0s 800us/step - loss: 0.5493 - accuracy: 0.7277 - val_loss: 0.5582 - val_accuracy: 0.7350\n",
      "Epoch 20/50\n",
      "563/563 [==============================] - 0s 801us/step - loss: 0.5489 - accuracy: 0.7284 - val_loss: 0.5580 - val_accuracy: 0.7356\n",
      "Epoch 21/50\n",
      "563/563 [==============================] - 0s 797us/step - loss: 0.5486 - accuracy: 0.7280 - val_loss: 0.5584 - val_accuracy: 0.7357\n",
      "Epoch 22/50\n",
      "563/563 [==============================] - 0s 787us/step - loss: 0.5485 - accuracy: 0.7286 - val_loss: 0.5581 - val_accuracy: 0.7362\n",
      "Epoch 23/50\n",
      "563/563 [==============================] - 0s 802us/step - loss: 0.5480 - accuracy: 0.7298 - val_loss: 0.5564 - val_accuracy: 0.7354\n",
      "Epoch 24/50\n",
      "563/563 [==============================] - 0s 795us/step - loss: 0.5475 - accuracy: 0.7289 - val_loss: 0.5555 - val_accuracy: 0.7367\n",
      "Epoch 25/50\n",
      "563/563 [==============================] - 0s 795us/step - loss: 0.5473 - accuracy: 0.7286 - val_loss: 0.5589 - val_accuracy: 0.7357\n",
      "Epoch 26/50\n",
      "563/563 [==============================] - 0s 781us/step - loss: 0.5469 - accuracy: 0.7285 - val_loss: 0.5560 - val_accuracy: 0.7365\n",
      "Epoch 27/50\n",
      "563/563 [==============================] - 0s 779us/step - loss: 0.5466 - accuracy: 0.7288 - val_loss: 0.5569 - val_accuracy: 0.7359\n",
      "Epoch 28/50\n",
      "563/563 [==============================] - 0s 802us/step - loss: 0.5464 - accuracy: 0.7290 - val_loss: 0.5582 - val_accuracy: 0.7363\n",
      "Epoch 29/50\n",
      "563/563 [==============================] - 0s 823us/step - loss: 0.5461 - accuracy: 0.7290 - val_loss: 0.5577 - val_accuracy: 0.7365\n",
      "Epoch 30/50\n",
      "563/563 [==============================] - 0s 804us/step - loss: 0.5460 - accuracy: 0.7300 - val_loss: 0.5581 - val_accuracy: 0.7367\n",
      "Epoch 31/50\n",
      "563/563 [==============================] - 0s 867us/step - loss: 0.5459 - accuracy: 0.7298 - val_loss: 0.5572 - val_accuracy: 0.7359\n",
      "Epoch 32/50\n",
      "563/563 [==============================] - 0s 850us/step - loss: 0.5456 - accuracy: 0.7305 - val_loss: 0.5545 - val_accuracy: 0.7368\n",
      "Epoch 33/50\n",
      "563/563 [==============================] - 0s 818us/step - loss: 0.5456 - accuracy: 0.7299 - val_loss: 0.5567 - val_accuracy: 0.7357\n",
      "Epoch 34/50\n",
      "563/563 [==============================] - 0s 799us/step - loss: 0.5450 - accuracy: 0.7297 - val_loss: 0.5579 - val_accuracy: 0.7367\n",
      "Epoch 35/50\n",
      "563/563 [==============================] - 0s 791us/step - loss: 0.5451 - accuracy: 0.7295 - val_loss: 0.5572 - val_accuracy: 0.7365\n",
      "Epoch 36/50\n",
      "563/563 [==============================] - 0s 801us/step - loss: 0.5450 - accuracy: 0.7295 - val_loss: 0.5549 - val_accuracy: 0.7366\n",
      "Epoch 37/50\n",
      "563/563 [==============================] - 0s 796us/step - loss: 0.5447 - accuracy: 0.7301 - val_loss: 0.5577 - val_accuracy: 0.7349\n",
      "Epoch 38/50\n",
      "563/563 [==============================] - 0s 782us/step - loss: 0.5441 - accuracy: 0.7303 - val_loss: 0.5587 - val_accuracy: 0.7371\n",
      "Epoch 39/50\n",
      "563/563 [==============================] - 0s 787us/step - loss: 0.5442 - accuracy: 0.7308 - val_loss: 0.5571 - val_accuracy: 0.7353\n",
      "Epoch 40/50\n",
      "563/563 [==============================] - 0s 776us/step - loss: 0.5445 - accuracy: 0.7303 - val_loss: 0.5571 - val_accuracy: 0.7346\n",
      "Epoch 41/50\n",
      "563/563 [==============================] - 0s 786us/step - loss: 0.5444 - accuracy: 0.7317 - val_loss: 0.5571 - val_accuracy: 0.7352\n",
      "Epoch 42/50\n",
      "563/563 [==============================] - 0s 794us/step - loss: 0.5438 - accuracy: 0.7305 - val_loss: 0.5568 - val_accuracy: 0.7356\n",
      "Epoch 43/50\n",
      "563/563 [==============================] - 0s 785us/step - loss: 0.5440 - accuracy: 0.7303 - val_loss: 0.5564 - val_accuracy: 0.7357\n",
      "Epoch 44/50\n",
      "563/563 [==============================] - 0s 781us/step - loss: 0.5439 - accuracy: 0.7301 - val_loss: 0.5566 - val_accuracy: 0.7365\n",
      "Epoch 45/50\n",
      "563/563 [==============================] - 0s 768us/step - loss: 0.5435 - accuracy: 0.7304 - val_loss: 0.5585 - val_accuracy: 0.7354\n",
      "Epoch 46/50\n",
      "563/563 [==============================] - 0s 789us/step - loss: 0.5433 - accuracy: 0.7314 - val_loss: 0.5582 - val_accuracy: 0.7330\n",
      "Epoch 47/50\n",
      "563/563 [==============================] - 0s 795us/step - loss: 0.5432 - accuracy: 0.7313 - val_loss: 0.5568 - val_accuracy: 0.7368\n",
      "Epoch 48/50\n",
      "563/563 [==============================] - 0s 788us/step - loss: 0.5433 - accuracy: 0.7310 - val_loss: 0.5584 - val_accuracy: 0.7353\n",
      "Epoch 49/50\n",
      "563/563 [==============================] - 0s 777us/step - loss: 0.5433 - accuracy: 0.7315 - val_loss: 0.5569 - val_accuracy: 0.7367\n",
      "Epoch 50/50\n",
      "563/563 [==============================] - 0s 772us/step - loss: 0.5431 - accuracy: 0.7318 - val_loss: 0.5581 - val_accuracy: 0.7365\n"
     ]
    }
   ],
   "source": [
    "# Fit the model using 50 epochs and the training data\n",
    "fit_model_A1 = nn_A1.fit(X_train_scaled, y_train, validation_split=0.3, epochs=50)\n"
   ]
  },
  {
   "cell_type": "markdown",
   "metadata": {},
   "source": [
    "#### Alternative Model 2"
   ]
  },
  {
   "cell_type": "code",
   "execution_count": 229,
   "metadata": {},
   "outputs": [
    {
     "data": {
      "text/plain": [
       "116"
      ]
     },
     "execution_count": 229,
     "metadata": {},
     "output_type": "execute_result"
    }
   ],
   "source": [
    "# Define the the number of inputs (features) to the model\n",
    "number_input_features = len(X_train.iloc[0])\n",
    "\n",
    "# Review the number of features\n",
    "number_input_features"
   ]
  },
  {
   "cell_type": "code",
   "execution_count": 230,
   "metadata": {},
   "outputs": [],
   "source": [
    "# Define the number of neurons in the output layer\n",
    "number_output_neurons_A2 =1"
   ]
  },
  {
   "cell_type": "code",
   "execution_count": 231,
   "metadata": {},
   "outputs": [
    {
     "data": {
      "text/plain": [
       "58"
      ]
     },
     "execution_count": 231,
     "metadata": {},
     "output_type": "execute_result"
    }
   ],
   "source": [
    "# Define the number of hidden nodes for the first hidden layer\n",
    "hidden_nodes_layer1_A2 = (number_input_features + 1) // 2\n",
    "\n",
    "# Review the number of hidden nodes in the first layer\n",
    "hidden_nodes_layer1_A2"
   ]
  },
  {
   "cell_type": "code",
   "execution_count": 232,
   "metadata": {},
   "outputs": [
    {
     "data": {
      "text/plain": [
       "29"
      ]
     },
     "execution_count": 232,
     "metadata": {},
     "output_type": "execute_result"
    }
   ],
   "source": [
    "# Define the number of hidden nodes for the second hidden layer\n",
    "hidden_nodes_layer2_A2 = (hidden_nodes_layer1_A2 + 1) // 2\n",
    "\n",
    "# Review the number of hidden nodes in the second layer\n",
    "hidden_nodes_layer2_A2"
   ]
  },
  {
   "cell_type": "code",
   "execution_count": 233,
   "metadata": {},
   "outputs": [
    {
     "data": {
      "text/plain": [
       "15"
      ]
     },
     "execution_count": 233,
     "metadata": {},
     "output_type": "execute_result"
    }
   ],
   "source": [
    "hidden_nodes_layer3_A2 = (hidden_nodes_layer2_A2 + 1) // 2\n",
    "\n",
    "# Review the number of hidden nodes in the second layer\n",
    "hidden_nodes_layer3_A2"
   ]
  },
  {
   "cell_type": "code",
   "execution_count": 234,
   "metadata": {},
   "outputs": [],
   "source": [
    "# Create the Sequential model instance\n",
    "nn_A2 = Sequential()"
   ]
  },
  {
   "cell_type": "code",
   "execution_count": 235,
   "metadata": {},
   "outputs": [
    {
     "name": "stdout",
     "output_type": "stream",
     "text": [
      "Model: \"sequential_15\"\n",
      "_________________________________________________________________\n",
      " Layer (type)                Output Shape              Param #   \n",
      "=================================================================\n",
      " dense_51 (Dense)            (None, 58)                6786      \n",
      "                                                                 \n",
      " dense_52 (Dense)            (None, 29)                1711      \n",
      "                                                                 \n",
      " dense_53 (Dense)            (None, 15)                450       \n",
      "                                                                 \n",
      " dense_54 (Dense)            (None, 1)                 16        \n",
      "                                                                 \n",
      "=================================================================\n",
      "Total params: 8,963\n",
      "Trainable params: 8,963\n",
      "Non-trainable params: 0\n",
      "_________________________________________________________________\n"
     ]
    }
   ],
   "source": [
    "# First hidden layer\n",
    "nn_A2.add(Dense(units=hidden_nodes_layer1_A2, input_dim=number_input_features, activation=\"relu\"))\n",
    "\n",
    "# Second hidden layer\n",
    "nn_A2.add(Dense(units=hidden_nodes_layer2_A2, activation=\"tanh\"))\n",
    "# Third hidden layer\n",
    "nn_A2.add(Dense(units=hidden_nodes_layer3_A2, activation=\"relu\"))\n",
    "# Output layer\n",
    "nn_A2.add(Dense(units=number_output_neurons_A2, activation=\"sigmoid\"))\n",
    "\n",
    "# Check the structure of the model\n",
    "nn_A2.summary()\n"
   ]
  },
  {
   "cell_type": "code",
   "execution_count": 236,
   "metadata": {},
   "outputs": [],
   "source": [
    "# Compile the model\n",
    "nn_A2.compile(loss=\"binary_crossentropy\", optimizer=\"sgd\", metrics=[\"accuracy\"])\n"
   ]
  },
  {
   "cell_type": "code",
   "execution_count": 237,
   "metadata": {},
   "outputs": [
    {
     "name": "stdout",
     "output_type": "stream",
     "text": [
      "Epoch 1/80\n",
      "563/563 [==============================] - 1s 959us/step - loss: 0.6029 - accuracy: 0.6917 - val_loss: 0.5637 - val_accuracy: 0.7288\n",
      "Epoch 2/80\n",
      "563/563 [==============================] - 0s 838us/step - loss: 0.5689 - accuracy: 0.7217 - val_loss: 0.5534 - val_accuracy: 0.7361\n",
      "Epoch 3/80\n",
      "563/563 [==============================] - 0s 848us/step - loss: 0.5621 - accuracy: 0.7245 - val_loss: 0.5495 - val_accuracy: 0.7376\n",
      "Epoch 4/80\n",
      "563/563 [==============================] - 0s 844us/step - loss: 0.5580 - accuracy: 0.7249 - val_loss: 0.5475 - val_accuracy: 0.7375\n",
      "Epoch 5/80\n",
      "563/563 [==============================] - 0s 847us/step - loss: 0.5556 - accuracy: 0.7262 - val_loss: 0.5453 - val_accuracy: 0.7389\n",
      "Epoch 6/80\n",
      "563/563 [==============================] - 0s 839us/step - loss: 0.5538 - accuracy: 0.7268 - val_loss: 0.5439 - val_accuracy: 0.7396\n",
      "Epoch 7/80\n",
      "563/563 [==============================] - 0s 833us/step - loss: 0.5523 - accuracy: 0.7273 - val_loss: 0.5471 - val_accuracy: 0.7389\n",
      "Epoch 8/80\n",
      "563/563 [==============================] - 0s 846us/step - loss: 0.5514 - accuracy: 0.7284 - val_loss: 0.5436 - val_accuracy: 0.7394\n",
      "Epoch 9/80\n",
      "563/563 [==============================] - 0s 843us/step - loss: 0.5501 - accuracy: 0.7286 - val_loss: 0.5454 - val_accuracy: 0.7398\n",
      "Epoch 10/80\n",
      "563/563 [==============================] - 0s 835us/step - loss: 0.5496 - accuracy: 0.7284 - val_loss: 0.5434 - val_accuracy: 0.7383\n",
      "Epoch 11/80\n",
      "563/563 [==============================] - 0s 844us/step - loss: 0.5486 - accuracy: 0.7290 - val_loss: 0.5443 - val_accuracy: 0.7391\n",
      "Epoch 12/80\n",
      "563/563 [==============================] - 0s 831us/step - loss: 0.5479 - accuracy: 0.7290 - val_loss: 0.5424 - val_accuracy: 0.7389\n",
      "Epoch 13/80\n",
      "563/563 [==============================] - 0s 841us/step - loss: 0.5473 - accuracy: 0.7297 - val_loss: 0.5451 - val_accuracy: 0.7376\n",
      "Epoch 14/80\n",
      "563/563 [==============================] - 0s 837us/step - loss: 0.5469 - accuracy: 0.7294 - val_loss: 0.5448 - val_accuracy: 0.7378\n",
      "Epoch 15/80\n",
      "563/563 [==============================] - 0s 849us/step - loss: 0.5463 - accuracy: 0.7296 - val_loss: 0.5429 - val_accuracy: 0.7381\n",
      "Epoch 16/80\n",
      "563/563 [==============================] - 0s 844us/step - loss: 0.5457 - accuracy: 0.7289 - val_loss: 0.5452 - val_accuracy: 0.7371\n",
      "Epoch 17/80\n",
      "563/563 [==============================] - 0s 831us/step - loss: 0.5455 - accuracy: 0.7296 - val_loss: 0.5421 - val_accuracy: 0.7380\n",
      "Epoch 18/80\n",
      "563/563 [==============================] - 0s 845us/step - loss: 0.5447 - accuracy: 0.7294 - val_loss: 0.5442 - val_accuracy: 0.7372\n",
      "Epoch 19/80\n",
      "563/563 [==============================] - 0s 839us/step - loss: 0.5445 - accuracy: 0.7306 - val_loss: 0.5422 - val_accuracy: 0.7400\n",
      "Epoch 20/80\n",
      "563/563 [==============================] - 0s 839us/step - loss: 0.5444 - accuracy: 0.7301 - val_loss: 0.5422 - val_accuracy: 0.7402\n",
      "Epoch 21/80\n",
      "563/563 [==============================] - 0s 836us/step - loss: 0.5438 - accuracy: 0.7313 - val_loss: 0.5434 - val_accuracy: 0.7393\n",
      "Epoch 22/80\n",
      "563/563 [==============================] - 0s 839us/step - loss: 0.5434 - accuracy: 0.7316 - val_loss: 0.5424 - val_accuracy: 0.7394\n",
      "Epoch 23/80\n",
      "563/563 [==============================] - 0s 826us/step - loss: 0.5433 - accuracy: 0.7319 - val_loss: 0.5436 - val_accuracy: 0.7378\n",
      "Epoch 24/80\n",
      "563/563 [==============================] - 0s 832us/step - loss: 0.5429 - accuracy: 0.7325 - val_loss: 0.5444 - val_accuracy: 0.7381\n",
      "Epoch 25/80\n",
      "563/563 [==============================] - 0s 834us/step - loss: 0.5425 - accuracy: 0.7324 - val_loss: 0.5422 - val_accuracy: 0.7393\n",
      "Epoch 26/80\n",
      "563/563 [==============================] - 0s 833us/step - loss: 0.5424 - accuracy: 0.7321 - val_loss: 0.5425 - val_accuracy: 0.7409\n",
      "Epoch 27/80\n",
      "563/563 [==============================] - 0s 831us/step - loss: 0.5418 - accuracy: 0.7332 - val_loss: 0.5428 - val_accuracy: 0.7400\n",
      "Epoch 28/80\n",
      "563/563 [==============================] - 0s 833us/step - loss: 0.5418 - accuracy: 0.7325 - val_loss: 0.5434 - val_accuracy: 0.7387\n",
      "Epoch 29/80\n",
      "563/563 [==============================] - 0s 835us/step - loss: 0.5415 - accuracy: 0.7325 - val_loss: 0.5430 - val_accuracy: 0.7389\n",
      "Epoch 30/80\n",
      "563/563 [==============================] - 0s 833us/step - loss: 0.5412 - accuracy: 0.7338 - val_loss: 0.5437 - val_accuracy: 0.7396\n",
      "Epoch 31/80\n",
      "563/563 [==============================] - 0s 836us/step - loss: 0.5410 - accuracy: 0.7341 - val_loss: 0.5434 - val_accuracy: 0.7367\n",
      "Epoch 32/80\n",
      "563/563 [==============================] - 0s 832us/step - loss: 0.5408 - accuracy: 0.7330 - val_loss: 0.5425 - val_accuracy: 0.7383\n",
      "Epoch 33/80\n",
      "563/563 [==============================] - 0s 828us/step - loss: 0.5405 - accuracy: 0.7332 - val_loss: 0.5449 - val_accuracy: 0.7371\n",
      "Epoch 34/80\n",
      "563/563 [==============================] - 0s 833us/step - loss: 0.5405 - accuracy: 0.7342 - val_loss: 0.5449 - val_accuracy: 0.7380\n",
      "Epoch 35/80\n",
      "563/563 [==============================] - 0s 832us/step - loss: 0.5402 - accuracy: 0.7333 - val_loss: 0.5429 - val_accuracy: 0.7389\n",
      "Epoch 36/80\n",
      "563/563 [==============================] - 0s 837us/step - loss: 0.5401 - accuracy: 0.7338 - val_loss: 0.5457 - val_accuracy: 0.7370\n",
      "Epoch 37/80\n",
      "563/563 [==============================] - 0s 832us/step - loss: 0.5401 - accuracy: 0.7343 - val_loss: 0.5447 - val_accuracy: 0.7363\n",
      "Epoch 38/80\n",
      "563/563 [==============================] - 0s 847us/step - loss: 0.5395 - accuracy: 0.7348 - val_loss: 0.5444 - val_accuracy: 0.7374\n",
      "Epoch 39/80\n",
      "563/563 [==============================] - 0s 828us/step - loss: 0.5396 - accuracy: 0.7340 - val_loss: 0.5453 - val_accuracy: 0.7371\n",
      "Epoch 40/80\n",
      "563/563 [==============================] - 0s 835us/step - loss: 0.5393 - accuracy: 0.7341 - val_loss: 0.5442 - val_accuracy: 0.7359\n",
      "Epoch 41/80\n",
      "563/563 [==============================] - 0s 818us/step - loss: 0.5393 - accuracy: 0.7346 - val_loss: 0.5446 - val_accuracy: 0.7385\n",
      "Epoch 42/80\n",
      "563/563 [==============================] - 0s 835us/step - loss: 0.5389 - accuracy: 0.7348 - val_loss: 0.5453 - val_accuracy: 0.7380\n",
      "Epoch 43/80\n",
      "563/563 [==============================] - 0s 860us/step - loss: 0.5388 - accuracy: 0.7346 - val_loss: 0.5450 - val_accuracy: 0.7380\n",
      "Epoch 44/80\n",
      "563/563 [==============================] - 0s 864us/step - loss: 0.5389 - accuracy: 0.7360 - val_loss: 0.5450 - val_accuracy: 0.7352\n",
      "Epoch 45/80\n",
      "563/563 [==============================] - 0s 877us/step - loss: 0.5384 - accuracy: 0.7359 - val_loss: 0.5466 - val_accuracy: 0.7378\n",
      "Epoch 46/80\n",
      "563/563 [==============================] - 0s 880us/step - loss: 0.5385 - accuracy: 0.7364 - val_loss: 0.5479 - val_accuracy: 0.7353\n",
      "Epoch 47/80\n",
      "563/563 [==============================] - 0s 850us/step - loss: 0.5384 - accuracy: 0.7358 - val_loss: 0.5454 - val_accuracy: 0.7356\n",
      "Epoch 48/80\n",
      "563/563 [==============================] - 0s 864us/step - loss: 0.5381 - accuracy: 0.7340 - val_loss: 0.5453 - val_accuracy: 0.7375\n",
      "Epoch 49/80\n",
      "563/563 [==============================] - 0s 867us/step - loss: 0.5381 - accuracy: 0.7348 - val_loss: 0.5464 - val_accuracy: 0.7367\n",
      "Epoch 50/80\n",
      "563/563 [==============================] - 0s 859us/step - loss: 0.5377 - accuracy: 0.7345 - val_loss: 0.5468 - val_accuracy: 0.7344\n",
      "Epoch 51/80\n",
      "563/563 [==============================] - 0s 858us/step - loss: 0.5377 - accuracy: 0.7359 - val_loss: 0.5444 - val_accuracy: 0.7384\n",
      "Epoch 52/80\n",
      "563/563 [==============================] - 0s 852us/step - loss: 0.5376 - accuracy: 0.7358 - val_loss: 0.5463 - val_accuracy: 0.7352\n",
      "Epoch 53/80\n",
      "563/563 [==============================] - 0s 856us/step - loss: 0.5375 - accuracy: 0.7365 - val_loss: 0.5477 - val_accuracy: 0.7345\n",
      "Epoch 54/80\n",
      "563/563 [==============================] - 0s 879us/step - loss: 0.5375 - accuracy: 0.7359 - val_loss: 0.5466 - val_accuracy: 0.7340\n",
      "Epoch 55/80\n",
      "563/563 [==============================] - 0s 855us/step - loss: 0.5374 - accuracy: 0.7351 - val_loss: 0.5462 - val_accuracy: 0.7363\n",
      "Epoch 56/80\n",
      "563/563 [==============================] - 0s 871us/step - loss: 0.5371 - accuracy: 0.7360 - val_loss: 0.5473 - val_accuracy: 0.7348\n",
      "Epoch 57/80\n",
      "563/563 [==============================] - 0s 859us/step - loss: 0.5373 - accuracy: 0.7363 - val_loss: 0.5458 - val_accuracy: 0.7376\n",
      "Epoch 58/80\n",
      "563/563 [==============================] - 0s 867us/step - loss: 0.5370 - accuracy: 0.7365 - val_loss: 0.5464 - val_accuracy: 0.7378\n",
      "Epoch 59/80\n",
      "563/563 [==============================] - 0s 845us/step - loss: 0.5370 - accuracy: 0.7361 - val_loss: 0.5466 - val_accuracy: 0.7357\n",
      "Epoch 60/80\n",
      "563/563 [==============================] - 0s 856us/step - loss: 0.5367 - accuracy: 0.7360 - val_loss: 0.5492 - val_accuracy: 0.7349\n",
      "Epoch 61/80\n",
      "563/563 [==============================] - 0s 847us/step - loss: 0.5368 - accuracy: 0.7362 - val_loss: 0.5460 - val_accuracy: 0.7368\n",
      "Epoch 62/80\n",
      "563/563 [==============================] - 0s 866us/step - loss: 0.5364 - accuracy: 0.7369 - val_loss: 0.5460 - val_accuracy: 0.7378\n",
      "Epoch 63/80\n",
      "563/563 [==============================] - 0s 849us/step - loss: 0.5363 - accuracy: 0.7374 - val_loss: 0.5464 - val_accuracy: 0.7378\n",
      "Epoch 64/80\n",
      "563/563 [==============================] - 0s 857us/step - loss: 0.5360 - accuracy: 0.7373 - val_loss: 0.5464 - val_accuracy: 0.7368\n",
      "Epoch 65/80\n",
      "563/563 [==============================] - 0s 855us/step - loss: 0.5364 - accuracy: 0.7375 - val_loss: 0.5482 - val_accuracy: 0.7299\n",
      "Epoch 66/80\n",
      "563/563 [==============================] - 0s 850us/step - loss: 0.5362 - accuracy: 0.7364 - val_loss: 0.5461 - val_accuracy: 0.7368\n",
      "Epoch 67/80\n",
      "563/563 [==============================] - 0s 844us/step - loss: 0.5358 - accuracy: 0.7363 - val_loss: 0.5481 - val_accuracy: 0.7379\n",
      "Epoch 68/80\n",
      "563/563 [==============================] - 0s 856us/step - loss: 0.5361 - accuracy: 0.7361 - val_loss: 0.5484 - val_accuracy: 0.7353\n",
      "Epoch 69/80\n",
      "563/563 [==============================] - 0s 848us/step - loss: 0.5356 - accuracy: 0.7371 - val_loss: 0.5467 - val_accuracy: 0.7378\n",
      "Epoch 70/80\n",
      "563/563 [==============================] - 0s 845us/step - loss: 0.5358 - accuracy: 0.7370 - val_loss: 0.5475 - val_accuracy: 0.7365\n",
      "Epoch 71/80\n",
      "563/563 [==============================] - 0s 864us/step - loss: 0.5359 - accuracy: 0.7371 - val_loss: 0.5483 - val_accuracy: 0.7328\n",
      "Epoch 72/80\n",
      "563/563 [==============================] - 0s 849us/step - loss: 0.5353 - accuracy: 0.7368 - val_loss: 0.5498 - val_accuracy: 0.7350\n",
      "Epoch 73/80\n",
      "563/563 [==============================] - 0s 841us/step - loss: 0.5355 - accuracy: 0.7370 - val_loss: 0.5471 - val_accuracy: 0.7368\n",
      "Epoch 74/80\n",
      "563/563 [==============================] - 0s 834us/step - loss: 0.5355 - accuracy: 0.7364 - val_loss: 0.5476 - val_accuracy: 0.7381\n",
      "Epoch 75/80\n",
      "563/563 [==============================] - 0s 849us/step - loss: 0.5356 - accuracy: 0.7378 - val_loss: 0.5484 - val_accuracy: 0.7363\n",
      "Epoch 76/80\n",
      "563/563 [==============================] - 0s 864us/step - loss: 0.5351 - accuracy: 0.7384 - val_loss: 0.5476 - val_accuracy: 0.7374\n",
      "Epoch 77/80\n",
      "563/563 [==============================] - 1s 896us/step - loss: 0.5353 - accuracy: 0.7373 - val_loss: 0.5475 - val_accuracy: 0.7370\n",
      "Epoch 78/80\n",
      "563/563 [==============================] - 0s 861us/step - loss: 0.5351 - accuracy: 0.7372 - val_loss: 0.5501 - val_accuracy: 0.7328\n",
      "Epoch 79/80\n",
      "563/563 [==============================] - 0s 856us/step - loss: 0.5353 - accuracy: 0.7381 - val_loss: 0.5500 - val_accuracy: 0.7335\n",
      "Epoch 80/80\n",
      "563/563 [==============================] - 0s 862us/step - loss: 0.5350 - accuracy: 0.7374 - val_loss: 0.5482 - val_accuracy: 0.7331\n"
     ]
    }
   ],
   "source": [
    "# Fit the model\n",
    "fit_model_A2 = nn_A2.fit(X_train_scaled, y_train, validation_split=0.3, epochs=80)\n"
   ]
  },
  {
   "cell_type": "markdown",
   "metadata": {},
   "source": [
    "### Step 2: After finishing your models, display the accuracy scores achieved by each model, and compare the results."
   ]
  },
  {
   "cell_type": "code",
   "execution_count": 238,
   "metadata": {},
   "outputs": [
    {
     "name": "stdout",
     "output_type": "stream",
     "text": [
      "Original Model Results\n",
      "268/268 - 0s - loss: 0.6915 - accuracy: 0.5292 - 135ms/epoch - 504us/step\n",
      "Loss: 0.6915470957756042, Accuracy: 0.5292128324508667\n"
     ]
    }
   ],
   "source": [
    "print(\"Original Model Results\")\n",
    "\n",
    "# Evaluate the model loss and accuracy metrics using the evaluate method and the test data\n",
    "model_loss, model_accuracy = nn.evaluate(X_test,y_test,verbose=2)\n",
    "\n",
    "# Display the model loss and accuracy results\n",
    "print(f\"Loss: {model_loss}, Accuracy: {model_accuracy}\")"
   ]
  },
  {
   "cell_type": "code",
   "execution_count": 239,
   "metadata": {},
   "outputs": [
    {
     "name": "stdout",
     "output_type": "stream",
     "text": [
      "Alternative Model 1 Results\n",
      "268/268 - 0s - loss: 0.5579 - accuracy: 0.7307 - 135ms/epoch - 504us/step\n",
      "Loss: 0.5578604340553284, Accuracy: 0.7307288646697998\n"
     ]
    }
   ],
   "source": [
    "print(\"Alternative Model 1 Results\")\n",
    "\n",
    "# Evaluate the model loss and accuracy metrics using the evaluate method and the test data\n",
    "model_loss, model_accuracy = nn_A1.evaluate(X_test_scaled,y_test,verbose=2)\n",
    "\n",
    "# Display the model loss and accuracy results\n",
    "print(f\"Loss: {model_loss}, Accuracy: {model_accuracy}\")"
   ]
  },
  {
   "cell_type": "code",
   "execution_count": 240,
   "metadata": {},
   "outputs": [
    {
     "name": "stdout",
     "output_type": "stream",
     "text": [
      "Alternative Model 2 Results\n",
      "268/268 - 0s - loss: 0.5531 - accuracy: 0.7296 - 137ms/epoch - 512us/step\n",
      "Loss: 0.5530917644500732, Accuracy: 0.7295626997947693\n"
     ]
    }
   ],
   "source": [
    "print(\"Alternative Model 2 Results\")\n",
    "\n",
    "# Evaluate the model loss and accuracy metrics using the evaluate method and the test data\n",
    "model_loss, model_accuracy = nn_A2.evaluate(X_test_scaled,y_test,verbose=2)\n",
    "\n",
    "# Display the model loss and accuracy results\n",
    "print(f\"Loss: {model_loss}, Accuracy: {model_accuracy}\")"
   ]
  },
  {
   "cell_type": "markdown",
   "metadata": {},
   "source": [
    "### Step 3: Save each of your alternative models as an HDF5 file.\n"
   ]
  },
  {
   "cell_type": "code",
   "execution_count": 241,
   "metadata": {},
   "outputs": [],
   "source": [
    "# Set the file path for the first alternative model\n",
    "file_path = Path(\"../Resources/nn_A1.h5\")\n",
    "\n",
    "# Export your model to a HDF5 file\n",
    "nn_A1.save(file_path)\n"
   ]
  },
  {
   "cell_type": "code",
   "execution_count": 242,
   "metadata": {},
   "outputs": [],
   "source": [
    "# Set the file path for the second alternative model\n",
    "file_path = Path(\"../Resources/nn_A2.h5\")\n",
    "\n",
    "# Export your model to a HDF5 file\n",
    "nn_A2.save(file_path)"
   ]
  },
  {
   "cell_type": "code",
   "execution_count": null,
   "metadata": {},
   "outputs": [],
   "source": []
  }
 ],
 "metadata": {
  "kernelspec": {
   "display_name": "Python 3.7.13 ('dev')",
   "language": "python",
   "name": "python3"
  },
  "language_info": {
   "codemirror_mode": {
    "name": "ipython",
    "version": 3
   },
   "file_extension": ".py",
   "mimetype": "text/x-python",
   "name": "python",
   "nbconvert_exporter": "python",
   "pygments_lexer": "ipython3",
   "version": "3.7.13"
  },
  "vscode": {
   "interpreter": {
    "hash": "f23b164979dd8aa6f7699077d25f3d62cd55c155447b6847cc3d0e08c122806f"
   }
  }
 },
 "nbformat": 4,
 "nbformat_minor": 4
}
